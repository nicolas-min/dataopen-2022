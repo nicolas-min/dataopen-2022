{
 "cells": [
  {
   "cell_type": "markdown",
   "id": "955a1c61-41f7-4336-bf2f-68886958bd3c",
   "metadata": {},
   "source": [
    "# Data cleaning example"
   ]
  },
  {
   "cell_type": "markdown",
   "id": "7221ab75-9ac4-4dfe-8740-b534aa0e56b6",
   "metadata": {},
   "source": [
    "Now we've gone over how to visualize and clean data, let's take a look at how we would use this in real life.\n",
    "\n",
    "Our goal is to take a data set from an API, and use it for some analysis.  However, our API is a little flakey and the data sometimes isn't great, so we'll need to figure out what we need to correct"
   ]
  },
  {
   "cell_type": "code",
   "execution_count": null,
   "id": "4a7f97e3-6432-442d-9613-483304ec7180",
   "metadata": {},
   "outputs": [],
   "source": [
    "import requests\n",
    "import pandas as pd\n",
    "import numpy as np\n",
    "import matplotlib.pyplot as plt\n",
    "from functools import reduce\n",
    "\n",
    "%matplotlib inline"
   ]
  },
  {
   "cell_type": "code",
   "execution_count": null,
   "id": "000b4d80-d5c7-4120-9c61-ccd4d2a6a95b",
   "metadata": {},
   "outputs": [],
   "source": [
    "def get_data(token):\n",
    "    res = requests.get(\n",
    "        f'https://api.cryptowat.ch/markets/coinbase-pro/{token}usd/ohlc',\n",
    "        params={\n",
    "            'periods': '3600',\n",
    "            'after': str(int(pd.Timestamp('2021-12-01').timestamp()))\n",
    "        }\n",
    "    )\n",
    "    df = pd.DataFrame(\n",
    "        res.json()['result']['3600'],\n",
    "        columns=['ts', 'open', 'high', 'low', 'close', 'volume', 'volumeUSD']\n",
    "    )\n",
    "    df['ts'] = pd.to_datetime(df.ts, unit='s')\n",
    "    df['token'] = token\n",
    "    \n",
    "    return df"
   ]
  },
  {
   "cell_type": "code",
   "execution_count": null,
   "id": "835be9c6-f3df-4054-9e23-258da23e33ca",
   "metadata": {},
   "outputs": [],
   "source": [
    "tokens = ['BTC', 'ETH', 'USDT', 'SOL', 'ADA', 'XRP', 'DOT', 'AVAX']"
   ]
  },
  {
   "cell_type": "code",
   "execution_count": null,
   "id": "3adbf5e8-e1c9-494c-a93e-f04b1819bb29",
   "metadata": {},
   "outputs": [],
   "source": [
    "dfs = [\n",
    "    (lambda x: x.assign(chain=np.where(x.token.isin(['ETH', 'AAVE', 'COMP']), np.full(x.shape[0], 'ETH'), x.token)))(get_data(token)) \n",
    "    for token in tokens\n",
    "]\n",
    "\n",
    "df = pd.concat(get_data(token) for token in tokens)\n",
    "df['chain'] = np.where(df.token.isin(['ETH', 'AAVE', 'COMP']), np.full(df.shape[0], 'ETH'), df.token)\n",
    "df.set_index('ts', inplace=True)"
   ]
  },
  {
   "cell_type": "code",
   "execution_count": null,
   "id": "b4de5423-4df7-439c-9a3d-d103c486dd68",
   "metadata": {},
   "outputs": [],
   "source": [
    "# do some chaos monkeying\n",
    "df['close'] = df['close'].mask(np.random.random(df.shape[0]) < .05, other=np.nan)\n",
    "df['close'] = df['close'].mask(np.random.random(df.shape[0]) < .01, other=df['close'] * 100)\n",
    "df['token'] = df['token'].mask(np.random.random(df.shape[0]) < .05, other='<a>' + df['token'] + '</a>')\n",
    "df = df.append(df.sample(frac=0.1)).sample(frac=1)"
   ]
  },
  {
   "cell_type": "markdown",
   "id": "afdc12e3-2176-4a76-bc84-9d03ea7a02c1",
   "metadata": {},
   "source": [
    "First, let's check our time series"
   ]
  },
  {
   "cell_type": "code",
   "execution_count": null,
   "id": "d8fdee93-ee44-427a-95ee-f7a38ef5f8fd",
   "metadata": {},
   "outputs": [],
   "source": [
    "df.info()"
   ]
  },
  {
   "cell_type": "markdown",
   "id": "0033547f-ab1d-48db-946e-1834c4e21c39",
   "metadata": {},
   "source": [
    "we can see that we have 2264, total entries, but close has a bunch of nulls"
   ]
  },
  {
   "cell_type": "code",
   "execution_count": null,
   "id": "3de96122-a9fa-467e-a4b9-57a2357f2e85",
   "metadata": {},
   "outputs": [],
   "source": [
    "df['token'].value_counts()"
   ]
  },
  {
   "cell_type": "markdown",
   "id": "6ea416c4-91e3-4724-9c8b-a0a42b659421",
   "metadata": {},
   "source": [
    "we also have some badly formatted token names (maybe we pulled from html)"
   ]
  },
  {
   "cell_type": "code",
   "execution_count": null,
   "id": "14fd5c76-d534-4081-b5cd-a4eb697e4de2",
   "metadata": {},
   "outputs": [],
   "source": [
    "df.duplicated().sum()"
   ]
  },
  {
   "cell_type": "markdown",
   "id": "12407c58-e1bd-4f6e-b4a0-819f82cb764c",
   "metadata": {},
   "source": [
    "we also have some duplicated rows it looks like"
   ]
  },
  {
   "cell_type": "code",
   "execution_count": null,
   "id": "cc26fe87-03fd-458f-9a81-ca0318d068aa",
   "metadata": {},
   "outputs": [],
   "source": [
    "df[['token', 'close']].plot()"
   ]
  },
  {
   "cell_type": "markdown",
   "id": "9bf5f8a4-757f-4c47-904d-f25243c688f4",
   "metadata": {},
   "source": [
    "this plot doens't make sense because we have a long table.  Let's plot by token"
   ]
  },
  {
   "cell_type": "code",
   "execution_count": null,
   "id": "6553ab97-ae34-405a-baf6-ffa63a39dd79",
   "metadata": {},
   "outputs": [],
   "source": [
    "tokens_in_df = df.token.unique()\n",
    "\n",
    "fig, axes = plt.subplots(nrows=math.ceil(tokens_in_df.size / 2), ncols=2, figsize=(15, 5 * math.ceil(tokens_in_df.size / 2)))\n",
    "\n",
    "idx = 0\n",
    "for label, df_token in df[['token', 'close']].groupby('token'):\n",
    "    df_token['close'].plot(ax=axes[idx // 2, idx % 2], label=label)\n",
    "    axes[idx // 2, idx % 2].legend()\n",
    "    \n",
    "    idx += 1\n"
   ]
  },
  {
   "cell_type": "markdown",
   "id": "443046f4-a8e0-41f9-b67e-153107453435",
   "metadata": {},
   "source": [
    "we definitely see some missing data from this plot, but also we definitely have some outliers in our data"
   ]
  },
  {
   "cell_type": "markdown",
   "id": "7e2995ad-dee5-45c2-9473-58cbd36c67c9",
   "metadata": {},
   "source": [
    "okay so what do we do?  let's get a plan of attack:\n",
    "1. Let's remove the duplicated rows\n",
    "2. Let's format the names for the tokens so we don't have the ones with tags\n",
    "3. Let's use a heuristic for missing close price as average of high + low of they day\n",
    "\n",
    "After this, we can take a look at our chart and see how we want to deal with the outliers\n"
   ]
  },
  {
   "cell_type": "markdown",
   "id": "dab52d2a-5267-43f0-b5d4-c9a466995952",
   "metadata": {},
   "source": [
    "1. drop duplicates"
   ]
  },
  {
   "cell_type": "code",
   "execution_count": null,
   "id": "9077efce-0959-4565-a580-8c35b5aca024",
   "metadata": {},
   "outputs": [],
   "source": [
    "df = df.drop_duplicates()"
   ]
  },
  {
   "cell_type": "markdown",
   "id": "9780d92e-eeaa-449c-9f5c-2c866a10e493",
   "metadata": {},
   "source": [
    "2. let's format the token names"
   ]
  },
  {
   "cell_type": "code",
   "execution_count": null,
   "id": "234e2aec-84cf-4f86-a363-31e2d5e143d5",
   "metadata": {},
   "outputs": [],
   "source": [
    "df.loc[df['token'].str.contains('<a>'), 'token'] = df.loc[df['token'].str.contains('<a>'), 'token'].str.extract('<a>(.|\\n)*?<\\/a>')\n"
   ]
  },
  {
   "cell_type": "markdown",
   "id": "bb1d1efb-50ad-4deb-95c4-fe0af77a61ba",
   "metadata": {},
   "source": [
    "3. use the heuristic for missing close prices as verage of high + low of the day"
   ]
  },
  {
   "cell_type": "code",
   "execution_count": null,
   "id": "06f7476f-a8a6-4fde-91d0-c71a57450b53",
   "metadata": {},
   "outputs": [],
   "source": [
    "df.loc[df['close'].isnull(), 'close'] = 0.5 * (df.loc[df['close'].isnull(), 'high'] + df.loc[df['close'].isnull(), 'low'])"
   ]
  },
  {
   "cell_type": "markdown",
   "id": "0cbaee5f-14d7-4f96-9331-c65ad7bf908c",
   "metadata": {},
   "source": [
    "Let's plot the same chart again"
   ]
  },
  {
   "cell_type": "code",
   "execution_count": null,
   "id": "56885a61-2aa0-416e-8bb2-7f72d20893be",
   "metadata": {},
   "outputs": [],
   "source": [
    "tokens_in_df = df.token.unique()\n",
    "\n",
    "fig, axes = plt.subplots(nrows=math.ceil(tokens_in_df.size / 2), ncols=2, figsize=(15, 5 * math.ceil(tokens_in_df.size / 2)))\n",
    "\n",
    "idx = 0\n",
    "for label, df_token in df[['token', 'close']].groupby('token'):\n",
    "    df_token['close'].plot(ax=axes[idx // 2, idx % 2], label=label)\n",
    "    axes[idx // 2, idx % 2].legend()\n",
    "    \n",
    "    idx += 1\n"
   ]
  },
  {
   "cell_type": "markdown",
   "id": "56cac078-2b5c-4b4e-9344-393678ed0770",
   "metadata": {},
   "source": [
    "So we now have good names, no duplicates and no missing values as we can see from the chart, however we still have these massive outliers.  Let's see how to deal with these.\n",
    "\n",
    "Let's come up with a heuristic to define an outlier, as something where the close price is greater than 2x higher or lower than the open price (given this is hourly data, we shouldn't expect it to change that much)"
   ]
  },
  {
   "cell_type": "code",
   "execution_count": null,
   "id": "66257339-8e31-44de-9e4e-ee32f58a5cd8",
   "metadata": {},
   "outputs": [],
   "source": [
    "df.loc[df.close / df.open >= 2]"
   ]
  },
  {
   "cell_type": "markdown",
   "id": "7ea96755-cea3-4802-a403-b3d0ea2ebad8",
   "metadata": {},
   "source": [
    "this heuristic looks okay - let's use the missing value heuristic to fill these in:"
   ]
  },
  {
   "cell_type": "code",
   "execution_count": null,
   "id": "d97878d2-7d21-4297-8454-f3b15993a41c",
   "metadata": {},
   "outputs": [],
   "source": [
    "df.loc[df.close / df.open >= 2, 'close'] = 0.5 * (df.loc[df.close / df.open >= 2, 'high'] + df.loc[df.close / df.open >= 2, 'low'])\n"
   ]
  },
  {
   "cell_type": "code",
   "execution_count": null,
   "id": "b22631b2-d72e-48e7-8a5f-73b49f2dfb5d",
   "metadata": {},
   "outputs": [],
   "source": [
    "tokens_in_df = df.token.unique()\n",
    "\n",
    "fig, axes = plt.subplots(nrows=math.ceil(tokens_in_df.size / 2), ncols=2, figsize=(15, 5 * math.ceil(tokens_in_df.size / 2)))\n",
    "\n",
    "idx = 0\n",
    "for label, df_token in df[['token', 'close']].groupby('token'):\n",
    "    df_token['close'].plot(ax=axes[idx // 2, idx % 2], label=label)\n",
    "    axes[idx // 2, idx % 2].legend()\n",
    "    \n",
    "    idx += 1\n"
   ]
  },
  {
   "cell_type": "code",
   "execution_count": null,
   "id": "67964b25-8eba-4f1f-a2c2-69ab86ff570e",
   "metadata": {},
   "outputs": [],
   "source": []
  }
 ],
 "metadata": {
  "kernelspec": {
   "display_name": "Python 3",
   "language": "python",
   "name": "python3"
  },
  "language_info": {
   "codemirror_mode": {
    "name": "ipython",
    "version": 3
   },
   "file_extension": ".py",
   "mimetype": "text/x-python",
   "name": "python",
   "nbconvert_exporter": "python",
   "pygments_lexer": "ipython3",
   "version": "3.8.8"
  }
 },
 "nbformat": 4,
 "nbformat_minor": 5
}
