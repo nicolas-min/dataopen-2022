{
 "cells": [
  {
   "cell_type": "markdown",
   "id": "367af9ac-d756-44ef-8c7e-f19f53f578e9",
   "metadata": {},
   "source": [
    "# Ingesting Data"
   ]
  },
  {
   "cell_type": "markdown",
   "id": "054245a2-0b6d-4758-91cf-ac1908b117dd",
   "metadata": {},
   "source": [
    "In python there are multiple ways to ingest data into a pandas dataframe.  This is because we often will work with data from various sources, even in a single project, and thus being able to easily ingest and format data is crucial to being productive.\n",
    "\n",
    "We will be looking at 6 different ways to ingest data today:\n",
    "- via csv\n",
    "- via JSON\n",
    "- via API\n",
    "- via google sheets\n",
    "- via s3\n",
    "- via SQL"
   ]
  },
  {
   "cell_type": "markdown",
   "id": "5118c773-301d-41ac-9bd9-23482e833449",
   "metadata": {},
   "source": [
    "## CSV ingestion"
   ]
  },
  {
   "cell_type": "markdown",
   "id": "1f020a07-6354-47d8-986c-c0dddc8258c0",
   "metadata": {},
   "source": [
    "One of the most common data formats you'll deal with in the real world is csvs.  CSVs are an easy, text based representation of tabular data.  It can be easily saved (it's just a text file), passed around and while it's not the most efficient way to store data, it is less verbose than other formats like JSON. \n",
    "\n",
    "There are a few ways to read csv data into a pandas DataFrame.  The easiest way is to use `.read_csv`, e.g.:"
   ]
  },
  {
   "cell_type": "code",
   "execution_count": 1,
   "id": "9949fe94-9d7c-4287-bdff-2ad8e72c3c7a",
   "metadata": {},
   "outputs": [],
   "source": [
    "import pandas as pd"
   ]
  },
  {
   "cell_type": "code",
   "execution_count": 7,
   "id": "29f7b2e5-e907-417b-af8e-2c91f1084d0a",
   "metadata": {},
   "outputs": [
    {
     "data": {
      "text/html": [
       "<div>\n",
       "<style scoped>\n",
       "    .dataframe tbody tr th:only-of-type {\n",
       "        vertical-align: middle;\n",
       "    }\n",
       "\n",
       "    .dataframe tbody tr th {\n",
       "        vertical-align: top;\n",
       "    }\n",
       "\n",
       "    .dataframe thead th {\n",
       "        text-align: right;\n",
       "    }\n",
       "</style>\n",
       "<table border=\"1\" class=\"dataframe\">\n",
       "  <thead>\n",
       "    <tr style=\"text-align: right;\">\n",
       "      <th></th>\n",
       "      <th>Rank</th>\n",
       "      <th>Name</th>\n",
       "      <th>Symbol</th>\n",
       "      <th>MarketCap</th>\n",
       "      <th>Price</th>\n",
       "      <th>VolumeUSD</th>\n",
       "    </tr>\n",
       "  </thead>\n",
       "  <tbody>\n",
       "    <tr>\n",
       "      <th>0</th>\n",
       "      <td>1</td>\n",
       "      <td>Bitcoin</td>\n",
       "      <td>BTC</td>\n",
       "      <td>9.326954e+11</td>\n",
       "      <td>49368.85</td>\n",
       "      <td>3.719820e+10</td>\n",
       "    </tr>\n",
       "    <tr>\n",
       "      <th>1</th>\n",
       "      <td>2</td>\n",
       "      <td>Ethereum</td>\n",
       "      <td>ETH</td>\n",
       "      <td>4.980079e+11</td>\n",
       "      <td>4198.32</td>\n",
       "      <td>2.553306e+10</td>\n",
       "    </tr>\n",
       "    <tr>\n",
       "      <th>2</th>\n",
       "      <td>3</td>\n",
       "      <td>Binance Coin</td>\n",
       "      <td>BNB</td>\n",
       "      <td>9.303886e+10</td>\n",
       "      <td>557.78</td>\n",
       "      <td>2.394236e+09</td>\n",
       "    </tr>\n",
       "    <tr>\n",
       "      <th>3</th>\n",
       "      <td>4</td>\n",
       "      <td>Tether</td>\n",
       "      <td>USDT</td>\n",
       "      <td>7.515969e+10</td>\n",
       "      <td>1.00</td>\n",
       "      <td>8.205415e+10</td>\n",
       "    </tr>\n",
       "    <tr>\n",
       "      <th>4</th>\n",
       "      <td>5</td>\n",
       "      <td>Solana</td>\n",
       "      <td>SOL</td>\n",
       "      <td>5.998332e+10</td>\n",
       "      <td>196.17</td>\n",
       "      <td>3.402592e+09</td>\n",
       "    </tr>\n",
       "  </tbody>\n",
       "</table>\n",
       "</div>"
      ],
      "text/plain": [
       "   Rank          Name Symbol     MarketCap     Price     VolumeUSD\n",
       "0     1       Bitcoin    BTC  9.326954e+11  49368.85  3.719820e+10\n",
       "1     2      Ethereum    ETH  4.980079e+11   4198.32  2.553306e+10\n",
       "2     3  Binance Coin    BNB  9.303886e+10    557.78  2.394236e+09\n",
       "3     4        Tether   USDT  7.515969e+10      1.00  8.205415e+10\n",
       "4     5        Solana    SOL  5.998332e+10    196.17  3.402592e+09"
      ]
     },
     "execution_count": 7,
     "metadata": {},
     "output_type": "execute_result"
    }
   ],
   "source": [
    "market_caps = pd.read_csv('market_caps.csv')\n",
    "market_caps.head()"
   ]
  },
  {
   "cell_type": "markdown",
   "id": "2b09819c-e7cb-4023-bdb7-980d1c37b12f",
   "metadata": {},
   "source": [
    "We can also see that `.read_csv` will smartly try to format columns for us.  E.g. it can detect that MarketCap, Price and VolumeUSD are floats, and Rank is an integer"
   ]
  },
  {
   "cell_type": "code",
   "execution_count": 10,
   "id": "26c77e13-ae42-41d0-9126-45b70f8bac93",
   "metadata": {},
   "outputs": [
    {
     "data": {
      "text/plain": [
       "Rank           int64\n",
       "Name          object\n",
       "Symbol        object\n",
       "MarketCap    float64\n",
       "Price        float64\n",
       "VolumeUSD    float64\n",
       "dtype: object"
      ]
     },
     "execution_count": 10,
     "metadata": {},
     "output_type": "execute_result"
    }
   ],
   "source": [
    "market_caps.dtypes"
   ]
  },
  {
   "cell_type": "markdown",
   "id": "e481a403-2446-4a1a-a7e0-6c688092c6a5",
   "metadata": {},
   "source": [
    "However, we can add a bit more customization to this.  For example, let's say we wanted custom names and to use rank as an index.  We can do so directly from `.read_csv`:"
   ]
  },
  {
   "cell_type": "code",
   "execution_count": 15,
   "id": "941b0f02-357e-4621-88d1-6e8a455cf515",
   "metadata": {},
   "outputs": [
    {
     "data": {
      "text/html": [
       "<div>\n",
       "<style scoped>\n",
       "    .dataframe tbody tr th:only-of-type {\n",
       "        vertical-align: middle;\n",
       "    }\n",
       "\n",
       "    .dataframe tbody tr th {\n",
       "        vertical-align: top;\n",
       "    }\n",
       "\n",
       "    .dataframe thead th {\n",
       "        text-align: right;\n",
       "    }\n",
       "</style>\n",
       "<table border=\"1\" class=\"dataframe\">\n",
       "  <thead>\n",
       "    <tr style=\"text-align: right;\">\n",
       "      <th></th>\n",
       "      <th>name</th>\n",
       "      <th>sym</th>\n",
       "      <th>market_size</th>\n",
       "      <th>price</th>\n",
       "      <th>volume_usd</th>\n",
       "    </tr>\n",
       "    <tr>\n",
       "      <th>rank</th>\n",
       "      <th></th>\n",
       "      <th></th>\n",
       "      <th></th>\n",
       "      <th></th>\n",
       "      <th></th>\n",
       "    </tr>\n",
       "  </thead>\n",
       "  <tbody>\n",
       "    <tr>\n",
       "      <th>1</th>\n",
       "      <td>Bitcoin</td>\n",
       "      <td>BTC</td>\n",
       "      <td>9.326954e+11</td>\n",
       "      <td>49368.85</td>\n",
       "      <td>3.719820e+10</td>\n",
       "    </tr>\n",
       "    <tr>\n",
       "      <th>2</th>\n",
       "      <td>Ethereum</td>\n",
       "      <td>ETH</td>\n",
       "      <td>4.980079e+11</td>\n",
       "      <td>4198.32</td>\n",
       "      <td>2.553306e+10</td>\n",
       "    </tr>\n",
       "    <tr>\n",
       "      <th>3</th>\n",
       "      <td>Binance Coin</td>\n",
       "      <td>BNB</td>\n",
       "      <td>9.303886e+10</td>\n",
       "      <td>557.78</td>\n",
       "      <td>2.394236e+09</td>\n",
       "    </tr>\n",
       "    <tr>\n",
       "      <th>4</th>\n",
       "      <td>Tether</td>\n",
       "      <td>USDT</td>\n",
       "      <td>7.515969e+10</td>\n",
       "      <td>1.00</td>\n",
       "      <td>8.205415e+10</td>\n",
       "    </tr>\n",
       "    <tr>\n",
       "      <th>5</th>\n",
       "      <td>Solana</td>\n",
       "      <td>SOL</td>\n",
       "      <td>5.998332e+10</td>\n",
       "      <td>196.17</td>\n",
       "      <td>3.402592e+09</td>\n",
       "    </tr>\n",
       "  </tbody>\n",
       "</table>\n",
       "</div>"
      ],
      "text/plain": [
       "              name   sym   market_size     price    volume_usd\n",
       "rank                                                          \n",
       "1          Bitcoin   BTC  9.326954e+11  49368.85  3.719820e+10\n",
       "2         Ethereum   ETH  4.980079e+11   4198.32  2.553306e+10\n",
       "3     Binance Coin   BNB  9.303886e+10    557.78  2.394236e+09\n",
       "4           Tether  USDT  7.515969e+10      1.00  8.205415e+10\n",
       "5           Solana   SOL  5.998332e+10    196.17  3.402592e+09"
      ]
     },
     "execution_count": 15,
     "metadata": {},
     "output_type": "execute_result"
    }
   ],
   "source": [
    "market_caps_custom = pd.read_csv(\n",
    "    'market_caps.csv',\n",
    "    header=None,\n",
    "    skiprows=1,\n",
    "    names=['rank', 'name', 'sym', 'market_size', 'price', 'volume_usd'],\n",
    "    index_col=0\n",
    ")\n",
    "market_caps_custom.head()"
   ]
  },
  {
   "cell_type": "markdown",
   "id": "7086eb99-065f-4929-92d9-bb39ec8b4d16",
   "metadata": {},
   "source": [
    "## JSON ingestion"
   ]
  },
  {
   "cell_type": "markdown",
   "id": "5327c446-080b-4d91-bcc6-5c7661bcdcfd",
   "metadata": {},
   "source": [
    "JSONs have similar properties to csvs, in that they are simple text files that can be passed around easily, however they can be a bit harder to work with for data analysis.  \n",
    "\n",
    "While a JSON can represent a table, it can also represent any arbitrary bundle of data.  This means that we may need to parse the JSON first and extract out the relevant values before we can convert it into a pandas DataFrame.\n",
    "\n",
    "Let's start with a simple example where the JSON is nicely formatted, and represents a table.  In this case, like with `.read_csv`, ad can simply call `.read_json`"
   ]
  },
  {
   "cell_type": "code",
   "execution_count": 30,
   "id": "de5e075c-b718-4165-a3b2-934ebbd6a6bd",
   "metadata": {},
   "outputs": [],
   "source": [
    "market_caps_json = pd.read_json('market_caps.json', orient='columns')"
   ]
  },
  {
   "cell_type": "code",
   "execution_count": 31,
   "id": "d0fae13f-6795-4b4a-96d9-492d716a58d5",
   "metadata": {},
   "outputs": [
    {
     "data": {
      "text/html": [
       "<div>\n",
       "<style scoped>\n",
       "    .dataframe tbody tr th:only-of-type {\n",
       "        vertical-align: middle;\n",
       "    }\n",
       "\n",
       "    .dataframe tbody tr th {\n",
       "        vertical-align: top;\n",
       "    }\n",
       "\n",
       "    .dataframe thead th {\n",
       "        text-align: right;\n",
       "    }\n",
       "</style>\n",
       "<table border=\"1\" class=\"dataframe\">\n",
       "  <thead>\n",
       "    <tr style=\"text-align: right;\">\n",
       "      <th></th>\n",
       "      <th>Rank</th>\n",
       "      <th>Name</th>\n",
       "      <th>Symbol</th>\n",
       "      <th>MarketCap</th>\n",
       "      <th>Price</th>\n",
       "      <th>VolumeUSD</th>\n",
       "    </tr>\n",
       "  </thead>\n",
       "  <tbody>\n",
       "    <tr>\n",
       "      <th>0</th>\n",
       "      <td>1</td>\n",
       "      <td>Bitcoin</td>\n",
       "      <td>BTC</td>\n",
       "      <td>9.326954e+11</td>\n",
       "      <td>49368.85000</td>\n",
       "      <td>3.719820e+10</td>\n",
       "    </tr>\n",
       "    <tr>\n",
       "      <th>1</th>\n",
       "      <td>2</td>\n",
       "      <td>Ethereum</td>\n",
       "      <td>ETH</td>\n",
       "      <td>4.980079e+11</td>\n",
       "      <td>4198.32000</td>\n",
       "      <td>2.553306e+10</td>\n",
       "    </tr>\n",
       "    <tr>\n",
       "      <th>2</th>\n",
       "      <td>3</td>\n",
       "      <td>Binance Coin</td>\n",
       "      <td>BNB</td>\n",
       "      <td>9.303886e+10</td>\n",
       "      <td>557.78000</td>\n",
       "      <td>2.394236e+09</td>\n",
       "    </tr>\n",
       "    <tr>\n",
       "      <th>3</th>\n",
       "      <td>4</td>\n",
       "      <td>Tether</td>\n",
       "      <td>USDT</td>\n",
       "      <td>7.515969e+10</td>\n",
       "      <td>1.00000</td>\n",
       "      <td>8.205415e+10</td>\n",
       "    </tr>\n",
       "    <tr>\n",
       "      <th>4</th>\n",
       "      <td>5</td>\n",
       "      <td>Solana</td>\n",
       "      <td>SOL</td>\n",
       "      <td>5.998332e+10</td>\n",
       "      <td>196.17000</td>\n",
       "      <td>3.402592e+09</td>\n",
       "    </tr>\n",
       "    <tr>\n",
       "      <th>...</th>\n",
       "      <td>...</td>\n",
       "      <td>...</td>\n",
       "      <td>...</td>\n",
       "      <td>...</td>\n",
       "      <td>...</td>\n",
       "      <td>...</td>\n",
       "    </tr>\n",
       "    <tr>\n",
       "      <th>95</th>\n",
       "      <td>96</td>\n",
       "      <td>Livepeer</td>\n",
       "      <td>LPT</td>\n",
       "      <td>8.771234e+08</td>\n",
       "      <td>41.44000</td>\n",
       "      <td>8.792440e+07</td>\n",
       "    </tr>\n",
       "    <tr>\n",
       "      <th>96</th>\n",
       "      <td>97</td>\n",
       "      <td>Audius</td>\n",
       "      <td>AUDIO</td>\n",
       "      <td>8.818012e+08</td>\n",
       "      <td>1.73000</td>\n",
       "      <td>3.114046e+07</td>\n",
       "    </tr>\n",
       "    <tr>\n",
       "      <th>97</th>\n",
       "      <td>98</td>\n",
       "      <td>Ankr</td>\n",
       "      <td>ANKR</td>\n",
       "      <td>8.784732e+08</td>\n",
       "      <td>0.10760</td>\n",
       "      <td>1.308197e+08</td>\n",
       "    </tr>\n",
       "    <tr>\n",
       "      <th>98</th>\n",
       "      <td>99</td>\n",
       "      <td>yearn.finance</td>\n",
       "      <td>YFI</td>\n",
       "      <td>8.726712e+08</td>\n",
       "      <td>23818.93000</td>\n",
       "      <td>1.832332e+08</td>\n",
       "    </tr>\n",
       "    <tr>\n",
       "      <th>99</th>\n",
       "      <td>100</td>\n",
       "      <td>Revain</td>\n",
       "      <td>REV</td>\n",
       "      <td>8.557478e+08</td>\n",
       "      <td>0.01006</td>\n",
       "      <td>1.871772e+06</td>\n",
       "    </tr>\n",
       "  </tbody>\n",
       "</table>\n",
       "<p>100 rows × 6 columns</p>\n",
       "</div>"
      ],
      "text/plain": [
       "    Rank           Name Symbol     MarketCap        Price     VolumeUSD\n",
       "0      1        Bitcoin    BTC  9.326954e+11  49368.85000  3.719820e+10\n",
       "1      2       Ethereum    ETH  4.980079e+11   4198.32000  2.553306e+10\n",
       "2      3   Binance Coin    BNB  9.303886e+10    557.78000  2.394236e+09\n",
       "3      4         Tether   USDT  7.515969e+10      1.00000  8.205415e+10\n",
       "4      5         Solana    SOL  5.998332e+10    196.17000  3.402592e+09\n",
       "..   ...            ...    ...           ...          ...           ...\n",
       "95    96       Livepeer    LPT  8.771234e+08     41.44000  8.792440e+07\n",
       "96    97         Audius  AUDIO  8.818012e+08      1.73000  3.114046e+07\n",
       "97    98           Ankr   ANKR  8.784732e+08      0.10760  1.308197e+08\n",
       "98    99  yearn.finance    YFI  8.726712e+08  23818.93000  1.832332e+08\n",
       "99   100         Revain    REV  8.557478e+08      0.01006  1.871772e+06\n",
       "\n",
       "[100 rows x 6 columns]"
      ]
     },
     "execution_count": 31,
     "metadata": {},
     "output_type": "execute_result"
    }
   ],
   "source": [
    "market_caps_json"
   ]
  },
  {
   "cell_type": "code",
   "execution_count": null,
   "id": "3afef0c7-008a-4fed-b190-2841b45ea78e",
   "metadata": {},
   "outputs": [],
   "source": []
  }
 ],
 "metadata": {
  "kernelspec": {
   "display_name": "Python 3",
   "language": "python",
   "name": "python3"
  },
  "language_info": {
   "codemirror_mode": {
    "name": "ipython",
    "version": 3
   },
   "file_extension": ".py",
   "mimetype": "text/x-python",
   "name": "python",
   "nbconvert_exporter": "python",
   "pygments_lexer": "ipython3",
   "version": "3.8.8"
  }
 },
 "nbformat": 4,
 "nbformat_minor": 5
}
