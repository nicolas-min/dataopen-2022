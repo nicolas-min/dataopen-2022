{
 "cells": [
  {
   "cell_type": "markdown",
   "id": "799a1c2b-bd2d-4691-8323-484b8c6d498c",
   "metadata": {},
   "source": [
    "# Visualization with Matplotlib"
   ]
  },
  {
   "cell_type": "markdown",
   "id": "4e6ebe1c-d3ba-4861-bc6b-8f3d5e569316",
   "metadata": {
    "tags": []
   },
   "source": [
    "One of the most important things we can do once we have loaded our data is to discover insights from it via plotting.  In this module we'll look at different ways we can plot, as well as how matplotlib works with pandas to give us very powerful ways to gain insight into our data"
   ]
  },
  {
   "cell_type": "code",
   "execution_count": null,
   "id": "6c4ad5ac-4069-4947-b8ad-e7e73163161b",
   "metadata": {},
   "outputs": [],
   "source": [
    "import requests\n",
    "import pandas as pd\n",
    "import numpy as np\n",
    "import matplotlib.pyplot as plt\n",
    "from functools import reduce\n",
    "\n",
    "%matplotlib inline"
   ]
  },
  {
   "cell_type": "code",
   "execution_count": null,
   "id": "5314d2ff-c843-451d-ac33-d66fbaf15305",
   "metadata": {},
   "outputs": [],
   "source": [
    "def get_data(token):\n",
    "    res = requests.get(\n",
    "        f'https://api.cryptowat.ch/markets/coinbase-pro/{token}usd/ohlc',\n",
    "        params={\n",
    "            'periods': '3600',\n",
    "            'after': str(int(pd.Timestamp('2021-12-01').timestamp()))\n",
    "        }\n",
    "    )\n",
    "\n",
    "    df = pd.DataFrame(\n",
    "        res.json()['result']['3600'],\n",
    "        columns=['ts', 'open', 'high', 'low', 'close', 'volume', 'volumeUSD']\n",
    "    )\n",
    "    df['ts'] = pd.to_datetime(df.ts, unit='s')\n",
    "    df['token'] = token\n",
    "    \n",
    "    return df"
   ]
  },
  {
   "cell_type": "code",
   "execution_count": null,
   "id": "d5255073-257c-43b6-9dfa-5bbfd20cd91f",
   "metadata": {},
   "outputs": [],
   "source": [
    "tokens = ['BTC', 'ETH', 'SOL', 'AAVE', 'COMP']"
   ]
  },
  {
   "cell_type": "code",
   "execution_count": null,
   "id": "f912d5f6-f694-47e7-a273-f9be0538be25",
   "metadata": {},
   "outputs": [],
   "source": [
    "dfs = [\n",
    "    (lambda x: x.assign(chain=np.where(x.token.isin(['ETH', 'AAVE', 'COMP']), np.full(x.shape[0], 'ETH'), x.token)))(get_data(token)) \n",
    "    for token in tokens\n",
    "]\n",
    "\n",
    "df = pd.concat(get_data(token) for token in tokens)\n",
    "df['chain'] = np.where(df.token.isin(['ETH', 'AAVE', 'COMP']), np.full(df.shape[0], 'ETH'), df.token)\n",
    "df.set_index('ts', inplace=True)\n"
   ]
  },
  {
   "cell_type": "code",
   "execution_count": null,
   "id": "d07ded1e-8b2a-4700-8281-a9f254a5ab8b",
   "metadata": {},
   "outputs": [],
   "source": [
    "df_btc_close = dfs[0].set_index('ts')"
   ]
  },
  {
   "cell_type": "code",
   "execution_count": null,
   "id": "831fafa7-2450-4cfa-b1db-ecc1246a3c76",
   "metadata": {},
   "outputs": [],
   "source": [
    "def df_merge(left, right):\n",
    "    return pd.merge(left, right, on='ts', how='inner')\n",
    "\n",
    "df_comparison = reduce(\n",
    "    df_merge, \n",
    "    [df[['ts', 'close']].rename(columns={'close': f'close_{token}'}) for df, token in zip(dfs, tokens)]\n",
    ")"
   ]
  },
  {
   "cell_type": "code",
   "execution_count": null,
   "id": "6bdf0a80-9930-4f15-8c05-31e1317ff2e2",
   "metadata": {},
   "outputs": [],
   "source": [
    "market_caps = pd.read_csv('data/market_caps.csv')"
   ]
  },
  {
   "cell_type": "markdown",
   "id": "f95153e9-fba0-42aa-8a92-4c2797afd552",
   "metadata": {
    "tags": []
   },
   "source": [
    "## Pandas plotting basics"
   ]
  },
  {
   "cell_type": "markdown",
   "id": "84500bca-9d10-4f29-984b-1035eb63430e",
   "metadata": {},
   "source": [
    "By default, pandas already has many ways to be able to plot, for example we can load our data, then immediately call `.plot` to take a look at what we're dealing with"
   ]
  },
  {
   "cell_type": "code",
   "execution_count": null,
   "id": "e769ca54-38cd-4cff-a080-5115e9c6a86c",
   "metadata": {},
   "outputs": [],
   "source": [
    "df_btc_close[['close']].plot()"
   ]
  },
  {
   "cell_type": "markdown",
   "id": "eec5e582-1307-4508-939a-f1f0f7e6685e",
   "metadata": {},
   "source": [
    "pandas (and most of python) uses the matplotlib.pylot module to do plotting.  We can see this by replicating the chart above using matplotlib.  However you will see that by default since this is a single dimension time series, we don't have legend enabled and our dat formating is in YYYY-MM format"
   ]
  },
  {
   "cell_type": "code",
   "execution_count": null,
   "id": "ba1b7cc4-15c4-49c5-bc39-6f0f2ea17592",
   "metadata": {},
   "outputs": [],
   "source": [
    "plt.plot(df_btc_close.index, df_btc_close.close)"
   ]
  },
  {
   "cell_type": "markdown",
   "id": "8d211226-540e-433d-9ee8-02bd8e0ee858",
   "metadata": {},
   "source": [
    "we can also plot multiple columns together, such as:"
   ]
  },
  {
   "cell_type": "code",
   "execution_count": null,
   "id": "82d85f4c-abec-464f-97eb-51a8758457da",
   "metadata": {
    "tags": []
   },
   "outputs": [],
   "source": [
    "df_btc_close[['open', 'high', 'low', 'close']].plot()"
   ]
  },
  {
   "cell_type": "markdown",
   "id": "1bd3b8b5-d91c-41cb-956c-37f0a58dfb9e",
   "metadata": {},
   "source": [
    "or change the line type:"
   ]
  },
  {
   "cell_type": "code",
   "execution_count": null,
   "id": "74f33229-255f-4c7c-be2d-8bc57c10e190",
   "metadata": {},
   "outputs": [],
   "source": [
    "df_btc_close[['close']].plot(style='--')"
   ]
  },
  {
   "cell_type": "markdown",
   "id": "05026f5f-83a9-49d2-b92f-47287784db47",
   "metadata": {},
   "source": [
    "You don't need to necessarily use the index, but instead can use any columns to plot against each other, e.g.:"
   ]
  },
  {
   "cell_type": "code",
   "execution_count": null,
   "id": "7c270675-5175-4697-b98e-637d70b3ad53",
   "metadata": {},
   "outputs": [],
   "source": [
    "df_comparison.plot(x='close_BTC', y='close_ETH')"
   ]
  },
  {
   "cell_type": "markdown",
   "id": "ad488d49-d34f-4e76-9265-722c221561bf",
   "metadata": {},
   "source": [
    "The above looks pretty terrible!  This is because we're now trying to plot the relationship between BTC and ETH, and using a line chart doesn't really make any sense.  Ideally, we want a scatter plot instead.\n",
    "\n",
    "To do this in pandas, we can pass in the `kind=` argument to `.plot`, and specify the type of chart we'd like to generate, e.g.:"
   ]
  },
  {
   "cell_type": "code",
   "execution_count": null,
   "id": "17d35ee9-6855-49de-a892-090df3bcf49a",
   "metadata": {},
   "outputs": [],
   "source": [
    "df_comparison.plot(x='close_BTC', y='close_ETH', kind='scatter')"
   ]
  },
  {
   "cell_type": "markdown",
   "id": "e6661cc1-c5d8-422f-adc4-7e5c0fd2607d",
   "metadata": {},
   "source": [
    "Now we have something that looks like it makes a lot more sense.  This is very useful for 2-dimensional analysis, as we can now easily see the relationship between any two variables."
   ]
  },
  {
   "cell_type": "markdown",
   "id": "ee46abc5-d270-4886-a362-d2ceb5f981ba",
   "metadata": {},
   "source": [
    "We can plot distributions just as easily, e.g. we can look at the distribution of prices by specifying a density chart below:"
   ]
  },
  {
   "cell_type": "code",
   "execution_count": null,
   "id": "4c41fe8d-ebf7-43aa-92bb-03c0a307fbd5",
   "metadata": {},
   "outputs": [],
   "source": [
    "df_btc_close[['close']].plot(kind='density')"
   ]
  },
  {
   "cell_type": "markdown",
   "id": "953ed575-6291-4934-9730-3ffdf4406328",
   "metadata": {},
   "source": [
    "There's a lot of different charts we can specify - for example, if we want to easily want to see the top 10 crypto currency market caps against each other, we can use a Bar Chart.  The x-axis of the chart is the index, and the y axes are the rows you'd like to use:"
   ]
  },
  {
   "cell_type": "code",
   "execution_count": null,
   "id": "6314d3f6-fb77-41dd-af1d-7b525eeebad7",
   "metadata": {},
   "outputs": [],
   "source": [
    "market_caps.head(n=10).set_index('Symbol')[['MarketCap']].plot(kind='bar')"
   ]
  },
  {
   "cell_type": "markdown",
   "id": "5ee308dd-1551-4731-bc81-187447f4f132",
   "metadata": {},
   "source": [
    "Like with line charts, plotting multiple columns is pretty easy:"
   ]
  },
  {
   "cell_type": "code",
   "execution_count": null,
   "id": "135d6216-3eec-491b-9f10-6ed7d1bf87e7",
   "metadata": {},
   "outputs": [],
   "source": [
    "market_caps.head(n=10).set_index('Symbol')[['MarketCap', 'Price']].plot(kind='bar')"
   ]
  },
  {
   "cell_type": "markdown",
   "id": "7b666160-b179-4915-9b6b-add68cffdfe1",
   "metadata": {},
   "source": [
    "The above doesn't look great - because the size of Market Caps are so much larger than prices, we are not able to see the price charts at all.  However, we can easily add a secondary axis to the chart to help scale each series:"
   ]
  },
  {
   "cell_type": "code",
   "execution_count": null,
   "id": "156b1a5f-3f85-4b31-a63a-a1e43963c241",
   "metadata": {},
   "outputs": [],
   "source": [
    "market_caps.head(n=10).set_index('Symbol')[['MarketCap', 'Price']].plot(kind='bar', secondary_y='Price')"
   ]
  },
  {
   "cell_type": "markdown",
   "id": "5f81a018-02e8-40a2-8476-d90737756750",
   "metadata": {},
   "source": [
    "Now price is plotted against the right y axis, while market cap is plotted against the left y axis, allowing us to make a much more sensible relative comparison.\n",
    "\n",
    "There's a lot more types of plotting we can do with simple pandas plotting, e.g. boxplots, pie charts, bubble charts etc.  Please take a look at the documentation for more examples"
   ]
  },
  {
   "cell_type": "markdown",
   "id": "2d930d31-8129-4423-a6a8-3811fa3cbd85",
   "metadata": {},
   "source": [
    "## More advanced Pandas plotting"
   ]
  },
  {
   "cell_type": "markdown",
   "id": "f95710bf-7c14-46e0-b868-5d0f1d7d2451",
   "metadata": {},
   "source": [
    "So now we can see how we can use pandas plotting to get some basic visualizations, we now want to see how we can very efficiently better understand the dependence relationships of our data.  Specifically we will look at how to find pair-wise relationships between our data easily, as well as time series properties.\n",
    "\n",
    "Pandas again helps us with the `pandas.plotting` library, which allows us to do this out of the box"
   ]
  },
  {
   "cell_type": "code",
   "execution_count": null,
   "id": "6a1b78de-2d4f-4943-ad18-2f90e5741f05",
   "metadata": {},
   "outputs": [],
   "source": [
    "from pandas.plotting import scatter_matrix, lag_plot, autocorrelation_plot"
   ]
  },
  {
   "cell_type": "markdown",
   "id": "0136714f-d93e-4b59-87e1-70bf454d66a0",
   "metadata": {},
   "source": [
    "In the above example, we saw that we could build a scatter plot for two of our features.  However what if our data set was more complex, and we had more features?  Pandas allows us to calculate _all_ pairwise scatters and feature densities using `scatter_matrix`.  \n",
    "\n",
    "**note** - this function is very expensive, and I don't recommend putting too many features into it as it can take a long time to run"
   ]
  },
  {
   "cell_type": "code",
   "execution_count": null,
   "id": "892b1efd-8f4f-4ffa-8c4a-1dc480e4208c",
   "metadata": {},
   "outputs": [],
   "source": [
    "r = scatter_matrix(df_comparison, figsize=(10, 10), diagonal='kde')"
   ]
  },
  {
   "cell_type": "markdown",
   "id": "c960ecaf-ac07-47f5-8066-4c2ec888e27c",
   "metadata": {},
   "source": [
    "we can now see how our features relate to each other!"
   ]
  },
  {
   "cell_type": "markdown",
   "id": "211af402-edfb-48dd-bf70-92c36db4195f",
   "metadata": {},
   "source": [
    "if we wanted to understand a time series, we generally want to understand its autocorrelation and relationship to its lagged values.  We can do this using `lag_plot` and `autocorrelation` respectively, which does the hard work of taking the time diffs and calculating correlations for us before we plot"
   ]
  },
  {
   "cell_type": "code",
   "execution_count": null,
   "id": "dc33d635-c7a8-4c43-a6ed-06a31a6d386f",
   "metadata": {},
   "outputs": [],
   "source": [
    "lag_plot(df_comparison.close_SOL)"
   ]
  },
  {
   "cell_type": "code",
   "execution_count": null,
   "id": "c45770f0-90df-45ba-aabe-3672ec8c4fa4",
   "metadata": {},
   "outputs": [],
   "source": [
    "autocorrelation_plot(df_comparison.close_SOL)"
   ]
  },
  {
   "cell_type": "markdown",
   "id": "676e409a-5d55-4bbf-b2d6-5012e453629e",
   "metadata": {},
   "source": [
    "There's also a lot more fucntions inside `pandas.plotting`, and they will be situationally useful, so go check it out!"
   ]
  },
  {
   "cell_type": "markdown",
   "id": "ca897e1f-e299-4fa0-9b77-8e3820834407",
   "metadata": {},
   "source": [
    "## Matplotlib"
   ]
  },
  {
   "cell_type": "markdown",
   "id": "3db6bb90-96ff-41a8-95e7-a8e6dc5e6ac4",
   "metadata": {},
   "source": [
    "The majority of charting in python is built on top of matplotlib.  It is extremely flexible and powerful, however usually requires a lot of boilerplate to get going.  In today's world we often will not use matplotlib directly but use a library on top of it, however understanding how matplotlib works is still very important.\n",
    "\n",
    "There's two ways to use matlib - a procedural way and a OOP way.  The procedural way is fairly easy:\n",
    "- create a figure\n",
    "- start putting plots into the figure\n",
    "\n",
    "i.e.:"
   ]
  },
  {
   "cell_type": "code",
   "execution_count": null,
   "id": "2426a68b-49e3-434e-b099-7184e4de72eb",
   "metadata": {},
   "outputs": [],
   "source": [
    "plt.figure(figsize=(10, 4))\n",
    "\n",
    "plt.plot(df_comparison.ts, df_comparison.close_SOL)\n",
    "plt.plot(df_comparison.ts, df_comparison.close_AAVE)\n",
    "plt.title('SOL vs AAVE prices')"
   ]
  },
  {
   "cell_type": "markdown",
   "id": "1033343b-7e6f-4410-a0af-2a1b6ae4499b",
   "metadata": {},
   "source": [
    "You can also get a little bit more complicated by using subplots.  In this way, you can select a subplot, push / update a plot, select another subplot to work on, and so forth, e.g.:\n"
   ]
  },
  {
   "cell_type": "code",
   "execution_count": null,
   "id": "86cd38d2-7a20-457b-8cc1-04ec2607ac2a",
   "metadata": {},
   "outputs": [],
   "source": [
    "plt.figure(figsize=(15, 4))\n",
    "plt.title('My Plots')\n",
    "\n",
    "plt.subplot(1, 2, 1) #1 row, 2 columns, selecting first item\n",
    "plt.plot(df_comparison.ts, df_comparison.close_SOL)\n",
    "plt.legend(['SOL'])\n",
    "\n",
    "plt.subplot(1, 2, 2) # switch to the second chart\n",
    "plt.plot(df_comparison.ts, df_comparison.close_AAVE)\n",
    "plt.legend(['AAVE'])\n",
    "\n",
    "plt.subplot(1, 2, 1) # switch back to the first chart to add some labels\n",
    "plt.xlabel('ts')\n",
    "plt.ylabel('priceUSD')"
   ]
  },
  {
   "cell_type": "markdown",
   "id": "3fcc8400-1133-43b4-bc34-9cad5b3b74b5",
   "metadata": {},
   "source": [
    "**note** once the plot renders, it is flushed, and so further actions won't work, e.g. in the next cell we can try to update ylabel again, but it will create a completely new chart"
   ]
  },
  {
   "cell_type": "code",
   "execution_count": null,
   "id": "7cad2e72-23c1-4619-9d28-bea05fa6ab74",
   "metadata": {},
   "outputs": [],
   "source": [
    "plt.ylabel('price in USD')"
   ]
  },
  {
   "cell_type": "markdown",
   "id": "a03b04e2-c262-4de8-a40c-36dcb7f6eb0a",
   "metadata": {},
   "source": [
    "while this works okay, it can get pretty unweildy quickly.  In addition, if you want to pass this chart to other functions or classes, this becomes impossible to do.  Instead, we can use the OOP way to generate charts that allows us to act on the chart object and pass it around"
   ]
  },
  {
   "cell_type": "markdown",
   "id": "d7ae9f14-962e-4b09-841a-a8e3607b9dd3",
   "metadata": {},
   "source": [
    "we first call `plt.subplots` to create the objects we need for our plot.  In the example below, we will be creating 2 plots like above"
   ]
  },
  {
   "cell_type": "code",
   "execution_count": null,
   "id": "f82ae5d5-23c7-4555-a08a-17119f3651d0",
   "metadata": {},
   "outputs": [],
   "source": [
    "fig, axes = plt.subplots(1, 2, figsize=(15, 4))"
   ]
  },
  {
   "cell_type": "markdown",
   "id": "db76c10c-a21f-4f28-989c-f3965d3f5e41",
   "metadata": {},
   "source": [
    "The axes object holds an array of subplots, which represent each plot.  Interestingly it's actually an `np.ndarray`, like our Series and DataFrames.\n",
    "\n",
    "the fig object holds the full chart object, which means that you can add in chart-level things (e.g. titles)"
   ]
  },
  {
   "cell_type": "code",
   "execution_count": null,
   "id": "55bec5a7-1cb3-4bc1-9e07-6cf0ca125015",
   "metadata": {},
   "outputs": [],
   "source": [
    "axes"
   ]
  },
  {
   "cell_type": "code",
   "execution_count": null,
   "id": "713c6184-d3fb-44db-a139-9a350cf67535",
   "metadata": {},
   "outputs": [],
   "source": [
    "fig.suptitle('this is my OOP chart')\n",
    "fig"
   ]
  },
  {
   "cell_type": "markdown",
   "id": "21474c2d-eb85-4afc-9325-f19d3d0e64e5",
   "metadata": {},
   "source": [
    "Now we can add some data"
   ]
  },
  {
   "cell_type": "code",
   "execution_count": null,
   "id": "c26ba884-2d6c-4179-b966-fcd2255776d6",
   "metadata": {},
   "outputs": [],
   "source": [
    "axes[0].plot(df_comparison.ts, df_comparison.close_AAVE)\n",
    "fig"
   ]
  },
  {
   "cell_type": "code",
   "execution_count": null,
   "id": "8c0427d6-5602-491d-acab-5d71fe2a39d6",
   "metadata": {},
   "outputs": [],
   "source": [
    "axes[1].plot(df_comparison.ts, df_comparison.close_SOL)\n",
    "axes[1].set_xlabel('ts')\n",
    "axes[1].set_ylabel('priceUSD')\n",
    "fig"
   ]
  },
  {
   "cell_type": "code",
   "execution_count": null,
   "id": "4260f2ee-b9f3-4741-b8c0-e3416653ed4c",
   "metadata": {},
   "outputs": [],
   "source": [
    "axes[0].set_title('my left chart')\n",
    "fig"
   ]
  },
  {
   "cell_type": "markdown",
   "id": "b07ec3dd-4a7b-47c5-8719-ae91bf63cd96",
   "metadata": {},
   "source": [
    "From this we can see that the fig can be rendered anywhere, and that we will not \"flush\" the object upon rendering.  We can also pass any individual axes object to a function to easily add data and change styling"
   ]
  },
  {
   "cell_type": "markdown",
   "id": "24597201-889b-46c7-aa26-cdd918fbd09f",
   "metadata": {},
   "source": [
    "Lastly, let's take a look at how pandas plotting works with matplotlib subplots.  Right now the way we've been using pandas plotting is similar to the procedural way, where we expect rendering to happen in place.  However, we can pass the axes that we want to render the plot to into the plot function, e.g.:"
   ]
  },
  {
   "cell_type": "code",
   "execution_count": null,
   "id": "46e18918-abaa-4b40-bd3c-849ca08065a8",
   "metadata": {},
   "outputs": [],
   "source": [
    "fig, axes = plt.subplots(nrows=2, ncols=2, figsize=(15, 10))"
   ]
  },
  {
   "cell_type": "markdown",
   "id": "ddeb047a-cd19-44d8-a4b9-601c7fe28456",
   "metadata": {},
   "source": [
    "**note** this time, we've specified a 2d array, so we will need to access the axes via [row, col]"
   ]
  },
  {
   "cell_type": "code",
   "execution_count": null,
   "id": "99b99f4d-c487-42ea-ae4d-cbf67025f0d5",
   "metadata": {},
   "outputs": [],
   "source": [
    "axes"
   ]
  },
  {
   "cell_type": "code",
   "execution_count": null,
   "id": "ace68713-4fa1-4cb2-bf72-fd5ddc6a0070",
   "metadata": {},
   "outputs": [],
   "source": [
    "df_btc_close[['close']].plot(ax=axes[0, 0])\n",
    "fig"
   ]
  },
  {
   "cell_type": "code",
   "execution_count": null,
   "id": "acf2293c-7112-4ff0-b6dc-57d0499ff923",
   "metadata": {},
   "outputs": [],
   "source": [
    "market_caps.head(n=10).set_index('Symbol')[['MarketCap', 'Price']].plot(kind='bar', secondary_y='Price', ax=axes[0, 1])\n",
    "fig"
   ]
  },
  {
   "cell_type": "code",
   "execution_count": null,
   "id": "b12cbd5a-d5e5-4c38-ac60-bdf4ea5d906b",
   "metadata": {},
   "outputs": [],
   "source": [
    "lag_plot(df_comparison.close_SOL, ax=axes[1, 0])\n",
    "fig"
   ]
  },
  {
   "cell_type": "code",
   "execution_count": null,
   "id": "20bb5823-e556-4668-bd04-cd429e30af1c",
   "metadata": {},
   "outputs": [],
   "source": [
    "autocorrelation_plot(df_comparison.close_SOL, ax=axes[1, 1])\n",
    "fig"
   ]
  },
  {
   "cell_type": "markdown",
   "id": "29ba8f9b-b8c9-4b36-9629-1d847782f7ef",
   "metadata": {},
   "source": [
    "With the above, you can encapsulate your chart logic into a library, return a chart and do whatever you'd like with it, e.g.:"
   ]
  },
  {
   "cell_type": "code",
   "execution_count": null,
   "id": "0aa90f00-f17f-4bce-92ae-b28913687f2a",
   "metadata": {},
   "outputs": [],
   "source": [
    "def charter(crypto_data):\n",
    "    fig, axes = plt.subplots(nrows=2, ncols=2, figsize=(15, 10))\n",
    "    \n",
    "    crypto_data.close_BTC.plot(ax=axes[0, 0])\n",
    "    crypto_data.plot(ax=axes[0, 1])\n",
    "    lag_plot(crypto_data.close_SOL, ax=axes[1, 0])\n",
    "    autocorrelation_plot(crypto_data.close_SOL, ax=axes[1, 1])\n",
    "    \n",
    "    return fig, axes\n"
   ]
  },
  {
   "cell_type": "code",
   "execution_count": null,
   "id": "c243eddf-3fa1-43e6-b72f-ef53abedeb68",
   "metadata": {},
   "outputs": [],
   "source": [
    "crypto_chart, _ = charter(df_comparison)\n",
    "crypto_chart.savefig('crypto_chart.png')"
   ]
  },
  {
   "cell_type": "markdown",
   "id": "cc323b94-14ef-413c-acd2-5bd6bfcdaa3b",
   "metadata": {},
   "source": []
  }
 ],
 "metadata": {
  "kernelspec": {
   "display_name": "Python 3",
   "language": "python",
   "name": "python3"
  },
  "language_info": {
   "codemirror_mode": {
    "name": "ipython",
    "version": 3
   },
   "file_extension": ".py",
   "mimetype": "text/x-python",
   "name": "python",
   "nbconvert_exporter": "python",
   "pygments_lexer": "ipython3",
   "version": "3.8.8"
  }
 },
 "nbformat": 4,
 "nbformat_minor": 5
}
