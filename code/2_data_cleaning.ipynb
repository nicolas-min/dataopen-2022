{
 "cells": [
  {
   "cell_type": "markdown",
   "id": "46a1ac35-11a9-4888-a6e7-561384a48e77",
   "metadata": {},
   "source": [
    "# Data Cleaning"
   ]
  },
  {
   "cell_type": "markdown",
   "id": "5f87c151-002b-45bd-8eb2-1aa3d35332d5",
   "metadata": {},
   "source": [
    "In this segment, we will be looking at some fundamental types of data cleaning, and how we can leverage what we've learned so far to help us get data we can work with"
   ]
  },
  {
   "cell_type": "code",
   "execution_count": null,
   "id": "811a8594-09a1-48a8-a119-4968423ea753",
   "metadata": {},
   "outputs": [],
   "source": [
    "import numpy as np\n",
    "import pandas as pd\n",
    "import matplotlib.pyplot as plt\n",
    "\n",
    "%matplotlib inline"
   ]
  },
  {
   "cell_type": "markdown",
   "id": "7afba8a0-c4f8-4d54-ae33-9ed19899f077",
   "metadata": {},
   "source": [
    "## Missing Values"
   ]
  },
  {
   "cell_type": "markdown",
   "id": "ebe0c7af-c709-4298-99e1-4da8d90f3135",
   "metadata": {},
   "source": [
    "One of the most common issues we find in working with real world data is dealing with missing values in our data set.  A missing value is any value that denotes that the data point is not recorded.  In Python, these values are often empty values for different data types, e.g.:"
   ]
  },
  {
   "cell_type": "markdown",
   "id": "bd72dc94-1d87-44e8-a242-5184cdb6e02b",
   "metadata": {},
   "source": [
    "### Missing Value Types"
   ]
  },
  {
   "cell_type": "code",
   "execution_count": null,
   "id": "0f0d0c03-4509-4cf0-a486-e20420fd6be5",
   "metadata": {},
   "outputs": [],
   "source": [
    "None # python's null value\n",
    "np.nan # not a number value from numpy\n",
    "np.inf # infinite from numpy"
   ]
  },
  {
   "cell_type": "markdown",
   "id": "c69fcf03-7ca5-49e2-948e-09cf88ecd54b",
   "metadata": {},
   "source": [
    "In Pandas, the majority of missing values will come in the form of `np.nan`.  Because `np.nan` is literally not a number, any operation involving `np.nan` will also result in `np.nan`, i.e.:"
   ]
  },
  {
   "cell_type": "code",
   "execution_count": null,
   "id": "fb8251ff-e431-4c3d-bc75-788d6904a2cd",
   "metadata": {},
   "outputs": [],
   "source": [
    "1 + np.nan"
   ]
  },
  {
   "cell_type": "code",
   "execution_count": null,
   "id": "5fd2889a-2290-438a-b0df-c4f4ad88a793",
   "metadata": {},
   "outputs": [],
   "source": [
    "np.array([1, np.nan, 3, 4]).sum()"
   ]
  },
  {
   "cell_type": "code",
   "execution_count": null,
   "id": "f7a3cf8d-3daf-4282-9d14-f10fb2eeb8c5",
   "metadata": {},
   "outputs": [],
   "source": [
    "np.array([1, np.nan, 3, 4]).mean()"
   ]
  },
  {
   "cell_type": "markdown",
   "id": "6df7b063-cb88-40ca-aaa1-8069d87251db",
   "metadata": {},
   "source": [
    "`None` will behave differently - most operations involving None will result in an error:"
   ]
  },
  {
   "cell_type": "code",
   "execution_count": null,
   "id": "d74d2601-5056-40c1-8ec4-668b18ef41c3",
   "metadata": {},
   "outputs": [],
   "source": [
    "1 + None"
   ]
  },
  {
   "cell_type": "code",
   "execution_count": null,
   "id": "8a87405e-d1e4-48cc-9e46-116b3d6d0fc5",
   "metadata": {},
   "outputs": [],
   "source": [
    "np.array([1, None, 3, 4]).sum()"
   ]
  },
  {
   "cell_type": "markdown",
   "id": "c3be1271-a5d7-4e2d-bcfe-7691b3f5e949",
   "metadata": {},
   "source": [
    "However, we deal with Nones far less in Pandas because as long as we're dealing with numeric data, `None`s are generally cast into `np.nan`s "
   ]
  },
  {
   "cell_type": "code",
   "execution_count": null,
   "id": "5e3f5bf1-82f0-4fba-b276-31eb19e88c35",
   "metadata": {},
   "outputs": [],
   "source": [
    "np.array([None], dtype='float')"
   ]
  },
  {
   "cell_type": "markdown",
   "id": "fbf47a89-086e-40e7-bb70-fb659511b6af",
   "metadata": {},
   "source": [
    "Lastly, `np.inf` behaves very similarly to `np.nan` since most operations with infinity will result in infinity"
   ]
  },
  {
   "cell_type": "code",
   "execution_count": null,
   "id": "9d116dc7-69ed-411b-983e-264d3173e4e9",
   "metadata": {},
   "outputs": [],
   "source": [
    "1 + np.inf"
   ]
  },
  {
   "cell_type": "code",
   "execution_count": null,
   "id": "812d298b-07cf-4341-aaa8-1a292f309629",
   "metadata": {},
   "outputs": [],
   "source": [
    "np.array([1, np.inf, 3, 4]).sum()"
   ]
  },
  {
   "cell_type": "code",
   "execution_count": null,
   "id": "022f9612-3e68-4cac-9721-777f2544197c",
   "metadata": {},
   "outputs": [],
   "source": [
    "np.inf / np.inf"
   ]
  },
  {
   "cell_type": "markdown",
   "id": "840482b4-8606-4f0c-b71e-e100428b8e86",
   "metadata": {},
   "source": [
    "### Finding missing values"
   ]
  },
  {
   "cell_type": "markdown",
   "id": "eb71ac99-e8c3-42ec-b5d9-d388e29c0fc8",
   "metadata": {},
   "source": [
    "When we load a data set, we'll need to check for `np.nan`, `np.inf` and in some cases `None` before we do any analysis.  Luckily `numpy` has a few functions to help us with `np.isnan`, `np.isinf` and `np.isfinite` which checks for both, and pandas gives us a helpful function `pd.isnull` which covers `None` cases as well:"
   ]
  },
  {
   "cell_type": "code",
   "execution_count": null,
   "id": "21de9471-7611-4cb8-8502-e0536479bbab",
   "metadata": {},
   "outputs": [],
   "source": [
    "np.isnan([1, np.nan, 3, 4])"
   ]
  },
  {
   "cell_type": "code",
   "execution_count": null,
   "id": "0158c858-a2da-4d39-ab86-e27c551c60b0",
   "metadata": {},
   "outputs": [],
   "source": [
    "np.isinf([1, np.inf, 3, 4])"
   ]
  },
  {
   "cell_type": "code",
   "execution_count": null,
   "id": "26a3b353-7ff0-4227-8541-a1de4a4c01ea",
   "metadata": {},
   "outputs": [],
   "source": [
    "np.isfinite([1, np.inf, np.nan, 3, 4])"
   ]
  },
  {
   "cell_type": "code",
   "execution_count": null,
   "id": "ff5fc39b-a746-48b5-836a-d9b715720fa7",
   "metadata": {},
   "outputs": [],
   "source": [
    "pd.isnull([np.nan, np.inf, None])"
   ]
  },
  {
   "cell_type": "markdown",
   "id": "43b52efd-be13-41fb-9906-e86c65fcf001",
   "metadata": {},
   "source": [
    "We can see if there are any missing values by using the `any` method:"
   ]
  },
  {
   "cell_type": "code",
   "execution_count": null,
   "id": "85deec7f-f413-489e-af23-cf90b5018995",
   "metadata": {},
   "outputs": [],
   "source": [
    "pd.isnull([np.nan, np.inf, None]).any()"
   ]
  },
  {
   "cell_type": "code",
   "execution_count": null,
   "id": "8a6ffd1b-f764-416a-b647-931e42db4697",
   "metadata": {},
   "outputs": [],
   "source": [
    "pd.isnull([1, 2, None]).any()"
   ]
  },
  {
   "cell_type": "code",
   "execution_count": null,
   "id": "1ef43678-4e73-4dec-a0e6-2575a27aad81",
   "metadata": {},
   "outputs": [],
   "source": [
    "pd.isnull([1, 2, 3]).any()"
   ]
  },
  {
   "cell_type": "markdown",
   "id": "bc9d6359-c4bc-4a9d-96d1-376f704efedd",
   "metadata": {},
   "source": [
    "### Filtering & Dropping missing values"
   ]
  },
  {
   "cell_type": "markdown",
   "id": "faaa4790-09f1-4dd6-b4c6-dd27b69a12b7",
   "metadata": {},
   "source": [
    "We can use these functions to help us filter our Series or DataFrames.  For example, if we are looking to filter out all the values that are nan, we can do so easily:"
   ]
  },
  {
   "cell_type": "code",
   "execution_count": null,
   "id": "e409239d-75a7-45d2-b3ed-e7ee79e4aa99",
   "metadata": {},
   "outputs": [],
   "source": [
    "market_caps = pd.Series([954.7, 514.4, np.nan, None, 57.9, 45.7, np.inf, 38.7, 28.8, 25.8])"
   ]
  },
  {
   "cell_type": "markdown",
   "id": "7ca30047-0b51-415c-864f-81464af78307",
   "metadata": {},
   "source": [
    "**note**: `pd.Series.sum()` will ignore `np.nan`, but _not_ `np.inf` as we see below:"
   ]
  },
  {
   "cell_type": "code",
   "execution_count": null,
   "id": "637a2fb3-f5bc-4082-b109-752070232123",
   "metadata": {},
   "outputs": [],
   "source": [
    "market_caps.sum()"
   ]
  },
  {
   "cell_type": "code",
   "execution_count": null,
   "id": "dcf0212b-016d-471c-8527-4b8b9bed374a",
   "metadata": {},
   "outputs": [],
   "source": [
    "market_caps[~np.isnan(market_caps)]"
   ]
  },
  {
   "cell_type": "code",
   "execution_count": null,
   "id": "50071a96-6a8e-4efb-ad23-5eadd3dc4e68",
   "metadata": {},
   "outputs": [],
   "source": [
    "market_caps[np.isfinite(market_caps)]"
   ]
  },
  {
   "cell_type": "code",
   "execution_count": null,
   "id": "75c05d43-5389-41cb-a158-501b7497e4b5",
   "metadata": {},
   "outputs": [],
   "source": [
    "market_caps[np.isfinite(market_caps)].sum()"
   ]
  },
  {
   "cell_type": "markdown",
   "id": "3cdbe87c-37f5-4b00-9adf-91e81f9a324c",
   "metadata": {},
   "source": [
    "all the above functions will apply to DataFrames as well:"
   ]
  },
  {
   "cell_type": "code",
   "execution_count": null,
   "id": "41fbf94a-8916-4dd9-b5a1-8c72515ab421",
   "metadata": {},
   "outputs": [],
   "source": [
    "sample_df = pd.DataFrame({\n",
    "    'A': [1, 2, 3, np.nan],\n",
    "    'B': [4, 5, None, np.nan],\n",
    "    'C': [7, np.nan, np.nan, None]\n",
    "})"
   ]
  },
  {
   "cell_type": "code",
   "execution_count": null,
   "id": "bf5b1af7-58ea-4336-a4e7-61a9556c6add",
   "metadata": {},
   "outputs": [],
   "source": [
    "np.isfinite(sample_df)"
   ]
  },
  {
   "cell_type": "code",
   "execution_count": null,
   "id": "89e231cf-db8c-47a1-b583-f0f87120d7b1",
   "metadata": {
    "tags": []
   },
   "outputs": [],
   "source": [
    "pd.isnull(sample_df)"
   ]
  },
  {
   "cell_type": "markdown",
   "id": "0dcc7761-9686-4d0e-8670-91839e211691",
   "metadata": {},
   "source": [
    "this also means that we can get a count of nulls by column and by row"
   ]
  },
  {
   "cell_type": "code",
   "execution_count": null,
   "id": "650a22d5-18fe-443a-904f-b2f329dd5674",
   "metadata": {},
   "outputs": [],
   "source": [
    "pd.isnull(sample_df).sum()"
   ]
  },
  {
   "cell_type": "code",
   "execution_count": null,
   "id": "351275b2-b6fa-4764-89de-e88dfd0e5136",
   "metadata": {},
   "outputs": [],
   "source": [
    "pd.isnull(sample_df).sum(axis=1)"
   ]
  },
  {
   "cell_type": "markdown",
   "id": "a54dfb03-53bc-4e0c-a9d4-01f7a0673a67",
   "metadata": {},
   "source": [
    "with this, we can filter on any column.  For example, if we want to filter out anything with null from column A, we can do this:"
   ]
  },
  {
   "cell_type": "code",
   "execution_count": null,
   "id": "12a86923-23f1-4085-a83d-69c7ec5497e2",
   "metadata": {},
   "outputs": [],
   "source": [
    "sample_df[sample_df.A.notnull()]"
   ]
  },
  {
   "cell_type": "markdown",
   "id": "0ce584ec-1a9a-43c0-b010-b4ed7a7f191c",
   "metadata": {},
   "source": [
    "this removed the 2nd row (we can see this since index `1` is now gone).  \n",
    "\n",
    "Because of how common this operation is, pandas has a method to do this in one operation using `.dropna`"
   ]
  },
  {
   "cell_type": "code",
   "execution_count": null,
   "id": "5a6c57a1-3727-4747-90a3-37717558e5b6",
   "metadata": {},
   "outputs": [],
   "source": [
    "sample_df.dropna(subset=['A'])"
   ]
  },
  {
   "cell_type": "markdown",
   "id": "8cb9d393-1f9e-418a-862a-e3ad86f1a952",
   "metadata": {},
   "source": [
    "by default `.dropna` will drop a row if _any_ element in that row has a null value.  we can use `subset` to select which columns we care about for dropping.  E.g. if we just called `.dropna` without any arguments on our DataFrame, we would get back just the first row since it's the only row that's non-null:"
   ]
  },
  {
   "cell_type": "code",
   "execution_count": null,
   "id": "4c400578-ae4d-4a97-ac34-ab34e263fe8d",
   "metadata": {},
   "outputs": [],
   "source": [
    "sample_df.dropna()"
   ]
  },
  {
   "cell_type": "markdown",
   "id": "c6aaa6c0-505c-4047-9ee4-65c82fd2420d",
   "metadata": {},
   "source": [
    "lastly, we can drop by columns also (i.e. if any column has a null, we drop it).  In our case this would only leave no columns"
   ]
  },
  {
   "cell_type": "code",
   "execution_count": null,
   "id": "8a01b2f5-91ba-4d77-89ee-fab29687c90e",
   "metadata": {
    "tags": []
   },
   "outputs": [],
   "source": [
    "sample_df.dropna(axis=1)"
   ]
  },
  {
   "cell_type": "markdown",
   "id": "02b1dd93-1d78-4eec-84da-35327b4c54bc",
   "metadata": {},
   "source": [
    "we can also tune how aggressively dropna drops.  The `how` argument allows us to specify drop on `any` nulls or `all` nulls, and the `thresh` argument allows us to specify how many nulls need to occur before dropping the row/column:"
   ]
  },
  {
   "cell_type": "code",
   "execution_count": null,
   "id": "149bfa58-5e67-4101-a233-6b3f60aa68d0",
   "metadata": {},
   "outputs": [],
   "source": [
    "sample_df.dropna(axis=1, how='all')"
   ]
  },
  {
   "cell_type": "code",
   "execution_count": null,
   "id": "91cef565-0ed1-43bd-8b2a-56f35156503e",
   "metadata": {},
   "outputs": [],
   "source": [
    "sample_df.dropna(axis=1, thresh=2)"
   ]
  },
  {
   "cell_type": "markdown",
   "id": "7b718e79-782c-4eac-b44c-d0db46a7ea29",
   "metadata": {},
   "source": [
    "### Filling missing values"
   ]
  },
  {
   "cell_type": "markdown",
   "id": "cb4b3e48-5ca4-4a13-b336-64f0cd7cd557",
   "metadata": {},
   "source": [
    "Sometimes we don't want to lose data, and replacing missing values with something else could be more advantageous than dropping entire rows or columns (which are the only two choices when working with tabular data).  For example, this may be because the columns with missing data are low importance (and thus dropping high valued rows due to low importance features could be bad), or because we have columns that are designed to detect outliers, and so it is safe to fill in missing data with the median value versus dropping data points.\n",
    "\n",
    "To do this we can use the `.fillna` method that's on both Series and DataFrames, which allows us to fill missing data points with a variety of different strategies"
   ]
  },
  {
   "cell_type": "markdown",
   "id": "bb88a122-b4b8-4af3-9c61-648d668cc200",
   "metadata": {},
   "source": [
    "The easiest way to fill in missing values is to use a single value to fill in, e.g. we can fill in with a 0, or with the sample mean:"
   ]
  },
  {
   "cell_type": "code",
   "execution_count": null,
   "id": "09eb98c0-8727-4dda-9e8b-a6adcecf7514",
   "metadata": {},
   "outputs": [],
   "source": [
    "market_caps = pd.Series([954.7, 514.4, np.nan, None, 57.9, 45.7, np.nan, 38.7, 28.8, 25.8])"
   ]
  },
  {
   "cell_type": "code",
   "execution_count": null,
   "id": "cd8761ac-6276-4997-9bf3-367b02b91196",
   "metadata": {},
   "outputs": [],
   "source": [
    "market_caps.fillna(0)"
   ]
  },
  {
   "cell_type": "code",
   "execution_count": null,
   "id": "b06a529d-c4c9-4b5e-bec3-a5662b9ca97e",
   "metadata": {},
   "outputs": [],
   "source": [
    "market_caps.fillna(market_caps.mean())"
   ]
  },
  {
   "cell_type": "markdown",
   "id": "d9876998-8b3c-4334-b24e-a563061ff7de",
   "metadata": {},
   "source": [
    "if you want to fill specific items but not others, this can also done by passing in a Series, which will fill by its index:"
   ]
  },
  {
   "cell_type": "code",
   "execution_count": null,
   "id": "10b1ae88-2f5a-4a65-b30a-d486cc13214f",
   "metadata": {},
   "outputs": [],
   "source": [
    "market_caps.fillna(pd.Series({3:100}))"
   ]
  },
  {
   "cell_type": "markdown",
   "id": "a76fe555-cc03-477c-9b7e-7cc66c3d1f00",
   "metadata": {},
   "source": [
    "one really handy feature is the ability to forwardfill or backfill.  Forwardfill will fill the previously non-null value to the current null position recursively, and backfill will do the opposite.\n",
    "\n",
    "This is particularly useful for time series, especially time series that are not in regular intervals, since it allows you to create a complete data set by filling down every timestamp from your joins"
   ]
  },
  {
   "cell_type": "code",
   "execution_count": null,
   "id": "1c4cecbd-6793-4cbe-90e9-5074cc02664e",
   "metadata": {},
   "outputs": [],
   "source": [
    "market_caps.fillna(method='ffill')"
   ]
  },
  {
   "cell_type": "code",
   "execution_count": null,
   "id": "b8eefa80-0e42-485b-92da-2731e9e94ac6",
   "metadata": {},
   "outputs": [],
   "source": [
    "market_caps.fillna(method='bfill')"
   ]
  },
  {
   "cell_type": "markdown",
   "id": "5e34cf21-b1c4-4ca4-b53e-686735523a28",
   "metadata": {},
   "source": [
    "dataframes have the same method, but can work on both dimensions (like most DataFrame functions), e.g.:"
   ]
  },
  {
   "cell_type": "code",
   "execution_count": null,
   "id": "b711d6ba-53d2-4948-982d-443d1176931d",
   "metadata": {},
   "outputs": [],
   "source": [
    "sample_df.fillna({'A': 4, 'B': sample_df.B.mean()})"
   ]
  },
  {
   "cell_type": "code",
   "execution_count": null,
   "id": "4ea4efda-e4ca-4f26-a769-9a300e788b82",
   "metadata": {},
   "outputs": [],
   "source": [
    "sample_df.fillna(method='ffill')"
   ]
  },
  {
   "cell_type": "code",
   "execution_count": null,
   "id": "a599313e-bc0c-43e7-a4d1-0cfb3c5000e1",
   "metadata": {},
   "outputs": [],
   "source": [
    "sample_df.fillna(method='ffill', axis=1)"
   ]
  },
  {
   "cell_type": "code",
   "execution_count": null,
   "id": "ec327d7b-b227-4e86-bd97-cc3e96bcb462",
   "metadata": {},
   "outputs": [],
   "source": [
    "sample_df.assign(C=sample_df['C'].fillna(method='ffill'))"
   ]
  },
  {
   "cell_type": "markdown",
   "id": "099a5550-4748-4d59-8a66-5adf6763331d",
   "metadata": {},
   "source": [
    "## Replace Values"
   ]
  },
  {
   "cell_type": "markdown",
   "id": "5adb84fd-0af0-4134-9c1c-9078f95904c4",
   "metadata": {},
   "source": [
    "The second most common problem you will likely encounter is the need to replace values.  This could be due to outliers (e.g. your data set reports 120% for an feature than can only be 100% maximum), mangled ingestion (e.g. all values that should say \"BTC\" say \"BTT\"), or you need the values to be formatted in a certain way before using the data (e.g. all values that say \"Ethereum\" needs to say \"ETH\").  \n",
    "\n",
    "In this situation we will still need to take action similar to what we did for missing data, but `.isnull`, `.dropna` and `.fillna` will no longer help us since these values will not be considered nulls.\n",
    "\n",
    "This problem becomes even more difficult when we have large data sets, and the outliers can be small"
   ]
  },
  {
   "cell_type": "code",
   "execution_count": null,
   "id": "07cb7fa1-742e-4a66-9dd5-945815aa9e5d",
   "metadata": {},
   "outputs": [],
   "source": [
    "df = pd.DataFrame({\n",
    "    'pct_scored': np.random.permutation(\n",
    "        np.append(\n",
    "            100 * np.random.rand(980),\n",
    "            100 + np.random.rand(20)\n",
    "        )\n",
    "    ),\n",
    "    'district': np.random.permutation(\n",
    "        np.append(\n",
    "            np.random.choice(['West', 'South', 'East', 'North'], 990), \n",
    "            (np.random.choice(['Nt', 'Sth'], 10))\n",
    "        )\n",
    "    ),\n",
    "    'city': np.random.permutation(\n",
    "        np.append(\n",
    "            np.random.choice(['Westbrook', 'Southbridge', 'Eastriver', 'Northgate'], 990), \n",
    "            (np.random.choice(['Westnook', 'Northgrate'], 10))\n",
    "        )\n",
    "    )\n",
    "})"
   ]
  },
  {
   "cell_type": "markdown",
   "id": "fb58eaef-3c97-4c1e-9266-4056b35ed356",
   "metadata": {
    "tags": []
   },
   "source": [
    "### Identifying categorical values that need replacement"
   ]
  },
  {
   "cell_type": "markdown",
   "id": "6ad33635-1c23-4b95-a2f3-b4f966a5be5f",
   "metadata": {},
   "source": [
    "For categorical values, one of the easiest ways to find whether we have values that need replacing is to identify the distinct set of values and see if there's anything strange.  For example, imagine we had a data set like:"
   ]
  },
  {
   "cell_type": "code",
   "execution_count": null,
   "id": "45145534-1727-4709-b55d-3b25f39e03e0",
   "metadata": {},
   "outputs": [],
   "source": [
    "df"
   ]
  },
  {
   "cell_type": "markdown",
   "id": "76f297f4-2b82-4535-b1f2-76c5b2fc0428",
   "metadata": {},
   "source": [
    "we can identify the unique set of names for district using `.unique`.  From this we found that there's two values we didn't expect `Sth` and `Nt`."
   ]
  },
  {
   "cell_type": "code",
   "execution_count": null,
   "id": "e8a5487a-13a5-427d-bd4c-d1dc066f1d66",
   "metadata": {},
   "outputs": [],
   "source": [
    "df['district'].unique()"
   ]
  },
  {
   "cell_type": "markdown",
   "id": "7c00a24f-7be7-4e93-a4f8-7dfbfdf82352",
   "metadata": {},
   "source": [
    "This may not be clear what values are actually errors.  We can use `.value_counts` to spot outliers"
   ]
  },
  {
   "cell_type": "code",
   "execution_count": null,
   "id": "c0716e29-20f1-4cc9-afc0-c9b571b7c9c0",
   "metadata": {},
   "outputs": [],
   "source": [
    "df['district'].value_counts()"
   ]
  },
  {
   "cell_type": "markdown",
   "id": "53460392-e045-4326-893a-8bb740f3b3c9",
   "metadata": {},
   "source": [
    "this shows us that Nt and Sth are likely errors"
   ]
  },
  {
   "cell_type": "markdown",
   "id": "f5a66a01-bc9d-4274-9142-60aa021793d1",
   "metadata": {},
   "source": [
    "Let's say we know that Sth is shorthand for South, and Nt is shorthand for North (this error could be due to the source data being manual entry).  We can use `.replace` to "
   ]
  },
  {
   "cell_type": "code",
   "execution_count": null,
   "id": "33cbf223-0ef0-426d-a4f5-14940512b717",
   "metadata": {},
   "outputs": [],
   "source": [
    "df['district'].replace('Nt', 'North').value_counts()"
   ]
  },
  {
   "cell_type": "markdown",
   "id": "09d99c77-c6ae-4fd0-89bf-04407e08ba4f",
   "metadata": {},
   "source": [
    "However if we have multiple values to replace, this is pretty inefficient.  Instead, we can pass in a dict and replace everything at once"
   ]
  },
  {
   "cell_type": "code",
   "execution_count": null,
   "id": "701162a4-723c-4f6c-a3de-14dd38fd0a9c",
   "metadata": {},
   "outputs": [],
   "source": [
    "df['district'].replace({'Nt': 'North', 'Sth': 'South'}).value_counts()"
   ]
  },
  {
   "cell_type": "markdown",
   "id": "f2421c5a-87ba-4286-856d-331d872fb8ff",
   "metadata": {},
   "source": [
    "With a DataFrame, we can do this across multiple columns as well with a nested Dict:"
   ]
  },
  {
   "cell_type": "code",
   "execution_count": null,
   "id": "2b1115a4-b142-4c65-8244-56966bb10af2",
   "metadata": {},
   "outputs": [],
   "source": [
    "df.replace({\n",
    "    'district': {'Nt': 'North', 'Sth': 'South'},\n",
    "    'city': {'Westnook': 'Westbrook', 'Northgrate': 'Northgate'}\n",
    "})"
   ]
  },
  {
   "cell_type": "code",
   "execution_count": null,
   "id": "e069d113-6246-4d80-a131-3b119314e474",
   "metadata": {},
   "outputs": [],
   "source": [
    "df.replace({\n",
    "    'district': {'Nt': 'North', 'Sth': 'South'},\n",
    "    'city': {'Westnook': 'Westbrook', 'Northgrate': 'Northgate'}\n",
    "})['city'].value_counts()"
   ]
  },
  {
   "cell_type": "markdown",
   "id": "f94fe84e-7c8b-49df-a254-6404cc574070",
   "metadata": {},
   "source": [
    "### Identifying numerical values that need replacement"
   ]
  },
  {
   "cell_type": "markdown",
   "id": "766c0ba9-64aa-422b-967c-3d4b22a1e8d0",
   "metadata": {},
   "source": [
    "We found out how we can easily replace categorical values, but what about numerical outliers?  This is even easier.  We can first identify how many row we will need to replace, then replace it using DataFrame mutation"
   ]
  },
  {
   "cell_type": "code",
   "execution_count": null,
   "id": "f2aee7da-c4bc-40e5-8063-0f296999c6a7",
   "metadata": {},
   "outputs": [],
   "source": [
    "df.loc[df.pct_scored > 100].shape"
   ]
  },
  {
   "cell_type": "code",
   "execution_count": null,
   "id": "fd50e191-21c2-4ef3-ab4f-fe21b6e3bbfd",
   "metadata": {},
   "outputs": [],
   "source": [
    "df.loc[df.pct_scored > 100, 'pct_scored'] = 100\n",
    "df.loc[df.pct_scored > 100].shape"
   ]
  },
  {
   "cell_type": "markdown",
   "id": "c137e2c4-7804-4bf4-a7f7-53d2694b6487",
   "metadata": {
    "tags": []
   },
   "source": [
    "## Duplicate Values"
   ]
  },
  {
   "cell_type": "markdown",
   "id": "b90b33b1-923a-479c-8bb1-213b7bd5611e",
   "metadata": {},
   "source": [
    "Duplicate values are super simple to detect and resolve - the standard methodology is to remove all but one of the duplicated values, or remove all duplicates (as it may indicate something wrong with the upstream data).  We can use `.duplicated` to detect duplicates, and `.drop_duplicates` to remove them.\n",
    "\n",
    "Let's see an example:"
   ]
  },
  {
   "cell_type": "code",
   "execution_count": null,
   "id": "1e44be7f-84f4-4d26-b151-f338cdec8863",
   "metadata": {},
   "outputs": [],
   "source": [
    "df = pd.DataFrame({\n",
    "    'A': ['A', 'B', 'C', 'B', 'D', 'D', 'D'],\n",
    "    'B': [1, 2, 3, 4, 5, 5, 7]\n",
    "})"
   ]
  },
  {
   "cell_type": "code",
   "execution_count": null,
   "id": "44e94597-c666-4b4d-920e-8bb5ec9a3059",
   "metadata": {},
   "outputs": [],
   "source": [
    "df.duplicated()"
   ]
  },
  {
   "cell_type": "markdown",
   "id": "460c1314-c209-4229-8e49-3b7ef1692bc6",
   "metadata": {},
   "source": [
    "currently, duplicated shows that only one row is duplicated.  This is the case because by default duplicated will check for fully duplicated rows - i.e. _every_ element in the row is duplicated.  If we want to only check for duplicates in column A, we can do this:"
   ]
  },
  {
   "cell_type": "code",
   "execution_count": null,
   "id": "b6b4fcb8-dc46-4d4d-a6d3-abcf65a1bce5",
   "metadata": {},
   "outputs": [],
   "source": [
    "df.duplicated(subset=['A'])"
   ]
  },
  {
   "cell_type": "markdown",
   "id": "8b1ef6d4-21b9-4117-b75b-66a51fd14669",
   "metadata": {},
   "source": [
    "Also notice that by default only the occurrence beyond the first is considered a duplicate (i.e. the first occurrence sequentially is not a duplicate).  We can change the behavior by either choosing the last occurrence as non-duplicated, or no occurrences as non-duplicated by:"
   ]
  },
  {
   "cell_type": "code",
   "execution_count": null,
   "id": "0b2da3a5-237c-461c-8ae1-9d091e09d8d1",
   "metadata": {},
   "outputs": [],
   "source": [
    "df.duplicated(subset=['A'], keep='last')"
   ]
  },
  {
   "cell_type": "code",
   "execution_count": null,
   "id": "aa2102d2-5e27-4af0-bb5e-8e8a560ae722",
   "metadata": {},
   "outputs": [],
   "source": [
    "df.duplicated(subset=['A'], keep=False)"
   ]
  },
  {
   "cell_type": "markdown",
   "id": "d5691624-9387-4a37-a6a3-756a8cb62d13",
   "metadata": {},
   "source": [
    "Once we know what items are duplicated and our strategy for keeping records, we can simply call `.drop_duplicates` with the exact same parameters to return a DataFrame with only our unique rows"
   ]
  },
  {
   "cell_type": "code",
   "execution_count": null,
   "id": "c51549fe-a9ed-41b9-acf7-82af1dc0a01d",
   "metadata": {},
   "outputs": [],
   "source": [
    "df.drop_duplicates(subset=['A'], keep='first')"
   ]
  },
  {
   "cell_type": "markdown",
   "id": "234c50be-c9a4-464f-8ea8-cbb466447bba",
   "metadata": {},
   "source": [
    "## Badly formatted values"
   ]
  },
  {
   "cell_type": "markdown",
   "id": "4d600228-6d31-4882-b9f9-e3ad56c01922",
   "metadata": {},
   "source": [
    "The Last case we will go over is handling malformed text.  This can happen for example if you're ingesting data from an HTML source where markup is attached to the data, or if the data is formatted in a weird or unintuitive way.  \n",
    "\n",
    "Luckily, pandas gives us some pretty easy methods to be able to split, truncate and parse data"
   ]
  },
  {
   "cell_type": "markdown",
   "id": "2bff7000-37ef-42ba-b58d-ed30d925d7b2",
   "metadata": {},
   "source": [
    "### Splitting data"
   ]
  },
  {
   "cell_type": "markdown",
   "id": "54b18f63-8390-4d1d-b974-08e648112824",
   "metadata": {},
   "source": [
    "If we have a data set like below, we can do the \"text to column\" operation using `.str.split`, as below:"
   ]
  },
  {
   "cell_type": "code",
   "execution_count": null,
   "id": "8dbf4076-45cb-41ab-9fff-098a9fb868b0",
   "metadata": {},
   "outputs": [],
   "source": [
    "df = pd.DataFrame({\n",
    "    'records': [\n",
    "        '<b>A</b>_59_D    @',\n",
    "        '<b>B</b>_92_L    L',\n",
    "        '<b>C</b>_7_O  Q',\n",
    "        '<b>D</b>_43_V  O',\n",
    "        '<b>E</b>_50_J    C',\n",
    "        '<b>F</b>_53_@   U',\n",
    "        '<b>G</b>_17_K  C',\n",
    "        '<b>H</b>_24_K  T',\n",
    "        '<b>I</b>_58_K    T',\n",
    "        '<b>J</b>_94_L M',\n",
    "        '<b>K</b>_60_H M',\n",
    "        '<b>L</b>_65_Q E',\n",
    "        '<b>M</b>_23_A C',\n",
    "        '<b>N</b>_62_PS',\n",
    "        '<b>O</b>_90_P    X',\n",
    "        '<b>P</b>_34_O    D',\n",
    "        '<b>Q</b>_26_T  D',\n",
    "        '<b>R</b>_78_P   T',\n",
    "        '<b>S</b>_94_@   C',\n",
    "        '<b>T</b>_69_?  E',\n",
    "        '<b>U</b>_50_P T',\n",
    "        '<b>V</b>_99_T  C',\n",
    "        '<b>W</b>_20_V Q',\n",
    "        '<b>X</b>_88_E    O',\n",
    "        '<b>Y</b>_7_RF',\n",
    "        '<b>Z</b>_47_EN',\n",
    "    ]\n",
    "})\n",
    "\n",
    "df.head(10)"
   ]
  },
  {
   "cell_type": "code",
   "execution_count": null,
   "id": "ab5ca7df-80f4-4545-8dbd-4b54ad3b2577",
   "metadata": {},
   "outputs": [],
   "source": [
    "df_res = df.records.str.split('_', expand=True)\n",
    "df_res.columns = ['column_A', 'column_B', 'column_C']\n",
    "df_res"
   ]
  },
  {
   "cell_type": "markdown",
   "id": "7f99fa60-d3a5-4106-8e47-03346933a59a",
   "metadata": {},
   "source": [
    "Next we can strip out end whitespaces from Column C, and strip out middle whitespaces using replace:"
   ]
  },
  {
   "cell_type": "code",
   "execution_count": null,
   "id": "a600e4c6-f287-469a-b7bf-022cefaac0fc",
   "metadata": {},
   "outputs": [],
   "source": [
    "df_res['column_C'] = df_res.column_C.str.strip()"
   ]
  },
  {
   "cell_type": "code",
   "execution_count": null,
   "id": "22bdc7fe-8d4c-449c-88c1-6df9032f095e",
   "metadata": {},
   "outputs": [],
   "source": [
    "df_res['column_C'] = df_res.column_C.str.replace(' ', '')"
   ]
  },
  {
   "cell_type": "code",
   "execution_count": null,
   "id": "ebde5c5b-d159-4c61-8250-341369faa271",
   "metadata": {},
   "outputs": [],
   "source": [
    "df_res"
   ]
  },
  {
   "cell_type": "markdown",
   "id": "0f0ccb52-469e-420b-9206-fb5d19f66724",
   "metadata": {},
   "source": [
    "lastly, the extract (and replace function above) function is very, very powerful in that it can use any regex:"
   ]
  },
  {
   "cell_type": "code",
   "execution_count": null,
   "id": "a9eb5339-bcdc-4f31-a153-8ce2210ac77e",
   "metadata": {},
   "outputs": [],
   "source": [
    "df_res['column_A'] = df_res['column_A'].str.extract('<b>(.|\\n)*?<\\/b>')"
   ]
  },
  {
   "cell_type": "code",
   "execution_count": null,
   "id": "4cdea531-0b9e-4b63-a98b-d0570d26c43b",
   "metadata": {},
   "outputs": [],
   "source": [
    "df_res"
   ]
  },
  {
   "cell_type": "code",
   "execution_count": null,
   "id": "e7735bda-eabc-4354-a891-57afa032e917",
   "metadata": {},
   "outputs": [],
   "source": []
  }
 ],
 "metadata": {
  "kernelspec": {
   "display_name": "Python 3",
   "language": "python",
   "name": "python3"
  },
  "language_info": {
   "codemirror_mode": {
    "name": "ipython",
    "version": 3
   },
   "file_extension": ".py",
   "mimetype": "text/x-python",
   "name": "python",
   "nbconvert_exporter": "python",
   "pygments_lexer": "ipython3",
   "version": "3.8.8"
  }
 },
 "nbformat": 4,
 "nbformat_minor": 5
}
