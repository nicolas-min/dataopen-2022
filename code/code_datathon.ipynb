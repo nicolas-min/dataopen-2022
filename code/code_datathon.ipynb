{
 "cells": [
  {
   "cell_type": "code",
   "execution_count": 2,
   "metadata": {},
   "outputs": [],
   "source": [
    "import pandas as pd\n",
    "import numpy as np\n",
    "import sys\n",
    "import os\n",
    "#sys.path.append(\"../data/\")\n",
    "\n"
   ]
  },
  {
   "cell_type": "code",
   "execution_count": 4,
   "metadata": {},
   "outputs": [],
   "source": [
    "diabetes = pd.read_csv(\"data/Diabetes_Data_1999_2008.csv\")\n",
    "Discharge_Disposition = pd.read_csv('data/Discharge_Disposition_Mapping.csv')\n",
    "Admission_Type_Mapping = pd.read_csv('data/Admission_Type_Mapping.csv')\n",
    "Admission_Source_Mapping = pd.read_csv('data/Admission_Source_Mapping.csv')\n",
    "\n",
    "\n",
    "data_cleaned = pd.read_csv('data/diabetic_data_prelim_cleaned.csv').set_index('patient_nbr').iloc[:,2:]\n",
    "data_cleaned = data_cleaned.loc[:,~data_cleaned.columns.isin(['weight','payer_code','medical_specialty','diag_1',\n",
    "                                                              'diag_2','diag_3','readmitted'])]\n",
    "data_cleaned = data_cleaned[(data_cleaned.race=='Caucasian')|(data_cleaned.race=='AfricanAmerican')]\n",
    "#Group1 = list(data_cleaned.groupby('race'))[0][1]\n",
    "#Group2 = list(data_cleaned.groupby('race'))[1][1]"
   ]
  },
  {
   "cell_type": "code",
   "execution_count": 5,
   "metadata": {},
   "outputs": [
    {
     "data": {
      "text/plain": [
       "Index(['race', 'gender', 'age', 'admission_type_id',\n",
       "       'discharge_disposition_id', 'admission_source_id', 'time_in_hospital',\n",
       "       'num_lab_procedures', 'num_procedures', 'num_medications',\n",
       "       'number_outpatient', 'number_emergency', 'number_inpatient',\n",
       "       'number_diagnoses', 'max_glu_serum', 'A1Cresult', 'metformin',\n",
       "       'repaglinide', 'nateglinide', 'chlorpropamide', 'glimepiride',\n",
       "       'acetohexamide', 'glipizide', 'glyburide', 'tolbutamide',\n",
       "       'pioglitazone', 'rosiglitazone', 'acarbose', 'miglitol', 'troglitazone',\n",
       "       'tolazamide', 'examide', 'citoglipton', 'insulin',\n",
       "       'glyburide.metformin', 'glipizide.metformin',\n",
       "       'glimepiride.pioglitazone', 'metformin.rosiglitazone',\n",
       "       'metformin.pioglitazone', 'change', 'diabetesMed', 'diag_1_grouped',\n",
       "       'early_readmitted'],\n",
       "      dtype='object')"
      ]
     },
     "execution_count": 5,
     "metadata": {},
     "output_type": "execute_result"
    }
   ],
   "source": [
    "data_cleaned.columns"
   ]
  },
  {
   "cell_type": "code",
   "execution_count": 6,
   "metadata": {},
   "outputs": [],
   "source": [
    "from sklearn.preprocessing import OneHotEncoder\n",
    "catogory_columns = [ 'gender', 'age', 'admission_type_id','admission_source_id',\n",
    "                    'diag_1_grouped','max_glu_serum', 'A1Cresult','metformin', 'repaglinide', 'nateglinide',\n",
    "       'chlorpropamide', 'glimepiride', 'acetohexamide', 'glipizide',\n",
    "       'glyburide', 'tolbutamide', 'pioglitazone', 'rosiglitazone', 'acarbose',\n",
    "       'miglitol', 'troglitazone', 'tolazamide', 'examide', 'citoglipton',\n",
    "       'insulin', 'glyburide.metformin', 'glipizide.metformin',\n",
    "       'glimepiride.pioglitazone', 'metformin.rosiglitazone',\n",
    "       'metformin.pioglitazone', 'change','diabetesMed']\n",
    "\n",
    "\n",
    "def onehoter_transform(catogory_columns, data_cleaned):\n",
    "    encoder = OneHotEncoder(handle_unknown='ignore')\n",
    "\n",
    "    encoder_df = pd.DataFrame(encoder.fit_transform(data_cleaned[catogory_columns]).toarray(),index=data_cleaned.index)\n",
    "\n",
    "    one_hot_new_colums = []\n",
    "    for origin_name, i in zip(catogory_columns,encoder.categories_):\n",
    "        l = np.array(list(map(lambda x:str(x)+'_'+str(origin_name),i)))\n",
    "        one_hot_new_colums.append(l)\n",
    "    one_hot_new_colums = np.concatenate(one_hot_new_colums)\n",
    "\n",
    "    encoder_df.columns = one_hot_new_colums\n",
    "\n",
    "    final_df = data_cleaned.loc[:,~data_cleaned.columns.isin(catogory_columns)].join(encoder_df)\n",
    "    return final_df\n",
    "\n",
    "final_df = onehoter_transform(catogory_columns,data_cleaned)\n",
    "final_df1 = final_df[final_df.race == 'Caucasian']\n",
    "final_df2 = final_df[final_df.race == 'AfricanAmerican']\n",
    "\n",
    "final_df1 = pd.concat([final_df1[final_df1.early_readmitted==1],\n",
    "                       final_df1[final_df1.early_readmitted==0].iloc[:len(final_df1[final_df1.early_readmitted==1]),:]],\n",
    "                       axis = 0)\n",
    "\n",
    "final_df2 = pd.concat([final_df2[final_df2.early_readmitted==1],\n",
    "                       final_df2[final_df2.early_readmitted==0].iloc[:len(final_df2[final_df2.early_readmitted==1]),:]],\n",
    "                       axis = 0)\n",
    "\n",
    "\n",
    "X1 = final_df1.loc[:,~final_df1.columns.isin(['early_readmitted','race'])]\n",
    "Y1 = final_df1.early_readmitted\n",
    "\n",
    "X2 = final_df2.loc[:,~final_df2.columns.isin(['early_readmitted','race'])]\n",
    "Y2 = final_df2.early_readmitted\n",
    "\n"
   ]
  },
  {
   "cell_type": "code",
   "execution_count": 261,
   "metadata": {},
   "outputs": [],
   "source": [
    "from sklearn.ensemble import RandomForestClassifier\n",
    "from sklearn.model_selection import GridSearchCV\n",
    "from sklearn.base import BaseEstimator, TransformerMixin\n",
    "from sklearn.pipeline import Pipeline\n",
    "from sklearn.model_selection import KFold\n",
    "\n",
    "pipeline = Pipeline([('randomforest', RandomForestClassifier())])\n",
    "test_size = 0.2\n",
    "cv = KFold(n_splits=5, shuffle=True)\n",
    "\n",
    "\n",
    "search = GridSearchCV(pipeline, {\n",
    "    'randomforest__n_estimators': [100, 150, 200],\n",
    "    'randomforest__criterion': ['gini','entropy'],\n",
    "    'randomforest__max_depth':[10, 15, 20],\n",
    "    \n",
    "}, refit=True, cv=cv, n_jobs=-1)\n",
    "search.fit(X1, Y1)\n",
    "Best_param1 = search.best_params_\n",
    "search.fit(X2, Y2)\n",
    "Best_param2 = search.best_params_"
   ]
  },
  {
   "cell_type": "code",
   "execution_count": 285,
   "metadata": {},
   "outputs": [
    {
     "data": {
      "text/plain": [
       "{'randomforest__criterion': 'gini',\n",
       " 'randomforest__max_depth': 10,\n",
       " 'randomforest__n_estimators': 100}"
      ]
     },
     "execution_count": 285,
     "metadata": {},
     "output_type": "execute_result"
    }
   ],
   "source": [
    "Best_param1"
   ]
  },
  {
   "cell_type": "code",
   "execution_count": 14,
   "metadata": {},
   "outputs": [],
   "source": [
    "from sklearn.model_selection import cross_val_score\n",
    "from sklearn.model_selection import LeaveOneOut\n",
    "RF = RandomForestClassifier(n_estimators=100,criterion='gini',max_depth=10)\n",
    "cv = KFold(n_splits=10, shuffle=True)\n",
    "scores1 = cross_val_score(RF, X1, Y1, cv=cv)\n",
    "scores2 = cross_val_score(RF, X2, Y2, cv=cv)\n"
   ]
  },
  {
   "cell_type": "code",
   "execution_count": 15,
   "metadata": {},
   "outputs": [],
   "source": [
    "RF.fit(X2,Y2)\n",
    "feature_importance2 = RF.feature_importances_\n",
    "Y1_predict = RF.predict(X1)\n",
    "diff_group1 = Y1 - Y1_predict\n",
    "RF.fit(X1,Y1)\n",
    "feature_importance1 = RF.feature_importances_\n",
    "Y2_predict = RF.predict(X2)\n",
    "diff_group2 = Y2 - Y2_predict"
   ]
  },
  {
   "cell_type": "code",
   "execution_count": 29,
   "metadata": {},
   "outputs": [
    {
     "data": {
      "text/html": [
       "<div>\n",
       "<style scoped>\n",
       "    .dataframe tbody tr th:only-of-type {\n",
       "        vertical-align: middle;\n",
       "    }\n",
       "\n",
       "    .dataframe tbody tr th {\n",
       "        vertical-align: top;\n",
       "    }\n",
       "\n",
       "    .dataframe thead th {\n",
       "        text-align: right;\n",
       "    }\n",
       "</style>\n",
       "<table border=\"1\" class=\"dataframe\">\n",
       "  <thead>\n",
       "    <tr style=\"text-align: right;\">\n",
       "      <th></th>\n",
       "      <th>importance coefficient</th>\n",
       "    </tr>\n",
       "    <tr>\n",
       "      <th>index</th>\n",
       "      <th></th>\n",
       "    </tr>\n",
       "  </thead>\n",
       "  <tbody>\n",
       "    <tr>\n",
       "      <th>number_outpatient</th>\n",
       "      <td>0.111318</td>\n",
       "    </tr>\n",
       "    <tr>\n",
       "      <th>number_diagnoses</th>\n",
       "      <td>0.096065</td>\n",
       "    </tr>\n",
       "    <tr>\n",
       "      <th>discharge_disposition_id</th>\n",
       "      <td>0.089388</td>\n",
       "    </tr>\n",
       "    <tr>\n",
       "      <th>number_inpatient</th>\n",
       "      <td>0.077649</td>\n",
       "    </tr>\n",
       "    <tr>\n",
       "      <th>num_lab_procedures</th>\n",
       "      <td>0.053714</td>\n",
       "    </tr>\n",
       "    <tr>\n",
       "      <th>number_emergency</th>\n",
       "      <td>0.045191</td>\n",
       "    </tr>\n",
       "    <tr>\n",
       "      <th>num_medications</th>\n",
       "      <td>0.039692</td>\n",
       "    </tr>\n",
       "    <tr>\n",
       "      <th>None_max_glu_serum</th>\n",
       "      <td>0.030926</td>\n",
       "    </tr>\n",
       "    <tr>\n",
       "      <th>5_admission_type_id</th>\n",
       "      <td>0.024253</td>\n",
       "    </tr>\n",
       "    <tr>\n",
       "      <th>time_in_hospital</th>\n",
       "      <td>0.021323</td>\n",
       "    </tr>\n",
       "  </tbody>\n",
       "</table>\n",
       "</div>"
      ],
      "text/plain": [
       "                          importance coefficient\n",
       "index                                           \n",
       "number_outpatient                       0.111318\n",
       "number_diagnoses                        0.096065\n",
       "discharge_disposition_id                0.089388\n",
       "number_inpatient                        0.077649\n",
       "num_lab_procedures                      0.053714\n",
       "number_emergency                        0.045191\n",
       "num_medications                         0.039692\n",
       "None_max_glu_serum                      0.030926\n",
       "5_admission_type_id                     0.024253\n",
       "time_in_hospital                        0.021323"
      ]
     },
     "execution_count": 29,
     "metadata": {},
     "output_type": "execute_result"
    }
   ],
   "source": [
    "Feature_impr = pd.Series(RF.feature_importances_, index=X1.columns)\n",
    "Feature_impr = Feature_impr.sort_values(ascending=False).reset_index().set_index('index')\n",
    "Feature_impr.columns = ['importance coefficient']\n",
    "Feature_impr.head(10)"
   ]
  },
  {
   "cell_type": "code",
   "execution_count": 18,
   "metadata": {},
   "outputs": [
    {
     "data": {
      "text/plain": [
       "Text(0.5, 1.0, 'Use African American data to predict Caucasian early readmission ')"
      ]
     },
     "execution_count": 18,
     "metadata": {},
     "output_type": "execute_result"
    },
    {
     "data": {
      "image/png": "[encoded data removed]",
      "text/plain": [
       "<Figure size 720x720 with 1 Axes>"
      ]
     },
     "metadata": {
      "needs_background": "light"
     },
     "output_type": "display_data"
    }
   ],
   "source": [
    "import matplotlib.pyplot as plt\n",
    "plt.figure(figsize=(10,10))\n",
    "plt.hist(diff_group1)\n",
    "plt.title('Use African American data to predict Caucasian early readmission ')"
   ]
  },
  {
   "cell_type": "code",
   "execution_count": 333,
   "metadata": {},
   "outputs": [
    {
     "data": {
      "text/plain": [
       "Text(0.5, 1.0, 'Use Caucasian data to predict African American early readmission ')"
      ]
     },
     "execution_count": 333,
     "metadata": {},
     "output_type": "execute_result"
    },
    {
     "data": {
      "image/png": "[encoded data removed]",
      "text/plain": [
       "<Figure size 720x720 with 1 Axes>"
      ]
     },
     "metadata": {
      "needs_background": "light"
     },
     "output_type": "display_data"
    }
   ],
   "source": [
    "plt.figure(figsize=(10,10))\n",
    "plt.hist(diff_group2)\n",
    "plt.title('Use Caucasian data to predict African American early readmission ')"
   ]
  },
  {
   "cell_type": "code",
   "execution_count": 23,
   "metadata": {},
   "outputs": [
    {
     "data": {
      "text/plain": [
       "0.7214135665972945"
      ]
     },
     "execution_count": 23,
     "metadata": {},
     "output_type": "execute_result"
    },
    {
     "data": {
      "image/png": "[encoded data removed]",
      "text/plain": [
       "<Figure size 432x288 with 1 Axes>"
      ]
     },
     "metadata": {
      "needs_background": "light"
     },
     "output_type": "display_data"
    }
   ],
   "source": [
    "plt.title('Accuracy for the model trained with Caucasian data')\n",
    "plt.plot(scores1)\n",
    "np.mean(scores1)"
   ]
  },
  {
   "cell_type": "code",
   "execution_count": 24,
   "metadata": {},
   "outputs": [
    {
     "data": {
      "text/plain": [
       "0.7118197813246198"
      ]
     },
     "execution_count": 24,
     "metadata": {},
     "output_type": "execute_result"
    },
    {
     "data": {
      "image/png": "[encoded data removed]",
      "text/plain": [
       "<Figure size 432x288 with 1 Axes>"
      ]
     },
     "metadata": {
      "needs_background": "light"
     },
     "output_type": "display_data"
    }
   ],
   "source": [
    "plt.title('Accuracy for the model trained with African American data')\n",
    "plt.plot(scores2)\n",
    "np.mean(scores2)"
   ]
  },
  {
   "cell_type": "code",
   "execution_count": 34,
   "metadata": {},
   "outputs": [
    {
     "data": {
      "text/plain": [
       "0.7035681610247027"
      ]
     },
     "execution_count": 34,
     "metadata": {},
     "output_type": "execute_result"
    }
   ],
   "source": [
    "sum(diff_group2==0)/len(diff_group2)"
   ]
  },
  {
   "cell_type": "code",
   "execution_count": null,
   "metadata": {},
   "outputs": [],
   "source": []
  }
 ],
 "metadata": {
  "kernelspec": {
   "display_name": "Python 3",
   "language": "python",
   "name": "python3"
  },
  "language_info": {
   "codemirror_mode": {
    "name": "ipython",
    "version": 3
   },
   "file_extension": ".py",
   "mimetype": "text/x-python",
   "name": "python",
   "nbconvert_exporter": "python",
   "pygments_lexer": "ipython3",
   "version": "3.7.6"
  }
 },
 "nbformat": 4,
 "nbformat_minor": 4
}
